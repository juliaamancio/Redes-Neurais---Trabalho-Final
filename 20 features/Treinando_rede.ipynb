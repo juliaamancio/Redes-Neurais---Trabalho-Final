{
 "cells": [
  {
   "cell_type": "code",
   "execution_count": 1,
   "id": "373a0579-1c3e-4862-92f4-46dec7cc613f",
   "metadata": {},
   "outputs": [],
   "source": [
    "import pickle\n",
    "import matplotlib.pyplot as plt\n",
    "import numpy as np\n",
    "import pandas as pd\n",
    "import torch\n",
    "import torch.nn as nn\n",
    "import torch.optim as optim\n",
    "from scipy import stats\n",
    "from sklearn.metrics import mean_squared_error\n",
    "from sklearn.model_selection import train_test_split\n",
    "from sklearn.preprocessing import MaxAbsScaler\n",
    "from torch.nn import functional as F\n",
    "from torch.utils.data import DataLoader, TensorDataset\n",
    "import pytorch_lightning as pl"
   ]
  },
  {
   "cell_type": "code",
   "execution_count": 2,
   "id": "457ceff1-f8f4-422d-ac05-0addb9d1e9b7",
   "metadata": {},
   "outputs": [],
   "source": [
    "TAMANHO_TESTE = 0.1\n",
    "TAMANHO_VALIDACAO = 0.1\n",
    "\n",
    "SEMENTE_ALEATORIA = 14042003\n",
    "\n",
    "NUM_EPOCAS = 40"
   ]
  },
  {
   "cell_type": "code",
   "execution_count": 3,
   "id": "b5ff76a3-df08-48b0-96c6-c5df00c64365",
   "metadata": {},
   "outputs": [],
   "source": [
    "dados = pickle.load(open('df_novo', 'rb'))"
   ]
  },
  {
   "cell_type": "code",
   "execution_count": 4,
   "id": "25acb5aa-accd-4041-9825-4484fb7d30ba",
   "metadata": {},
   "outputs": [],
   "source": [
    "dados = dados.drop('Material compositions', axis=1)"
   ]
  },
  {
   "cell_type": "markdown",
   "id": "279d384e-a4eb-440b-9d13-8de757f584cb",
   "metadata": {},
   "source": [
    "#### Preparação dos dados"
   ]
  },
  {
   "cell_type": "code",
   "execution_count": 6,
   "id": "182c36d6-e1db-4e60-a9d7-184b5a68b4a6",
   "metadata": {
    "tags": []
   },
   "outputs": [],
   "source": [
    "class DataModule(pl.LightningDataModule):\n",
    "    def __init__(\n",
    "        self,\n",
    "        batch_size = 64,\n",
    "        num_workers = 4,\n",
    "    ):\n",
    "        super().__init__()\n",
    "\n",
    "        self.batch_size = batch_size\n",
    "        self.num_workers = num_workers\n",
    "\n",
    "\n",
    "    def setup(self, stage):\n",
    "       \n",
    "        features = list(dados.columns)[1:]\n",
    "        target = [\"Trg\"]\n",
    "\n",
    "        df = dados\n",
    "\n",
    "        df = df.reindex(features + target, axis=1)\n",
    "\n",
    "        indices = df.index\n",
    "        indices_treino_val, indices_teste = train_test_split(\n",
    "            indices, test_size=TAMANHO_TESTE, random_state=SEMENTE_ALEATORIA\n",
    "        )\n",
    "\n",
    "        df_treino_val = df.loc[indices_treino_val]\n",
    "        df_teste = df.loc[indices_teste]\n",
    "\n",
    "        indices = df_treino_val.index\n",
    "        indices_treino, indices_val = train_test_split(\n",
    "            indices,\n",
    "            test_size=TAMANHO_TESTE,\n",
    "            random_state=SEMENTE_ALEATORIA,\n",
    "        )\n",
    "\n",
    "        df_treino = df.loc[indices_treino]\n",
    "        df_val = df.loc[indices_val]\n",
    "\n",
    "        X_treino = df_treino.reindex(features, axis=1).values\n",
    "        y_treino = df_treino.reindex(target, axis=1).values\n",
    "\n",
    "        self.x_scaler = MaxAbsScaler()\n",
    "        self.x_scaler.fit(X_treino)\n",
    "\n",
    "        self.y_scaler = MaxAbsScaler()\n",
    "        self.y_scaler.fit(y_treino)\n",
    "\n",
    "        if stage == \"fit\":\n",
    "            X_val = df_val.reindex(features, axis=1).values\n",
    "            y_val = df_val.reindex(target, axis=1).values\n",
    "\n",
    "            X_treino = self.x_scaler.transform(X_treino)\n",
    "            y_treino = self.y_scaler.transform(y_treino)\n",
    "\n",
    "            X_val = self.x_scaler.transform(X_val)\n",
    "            y_val = self.y_scaler.transform(y_val)\n",
    "\n",
    "            self.X_treino = torch.tensor(X_treino, dtype=torch.float32)\n",
    "            self.y_treino = torch.tensor(y_treino, dtype=torch.float32)\n",
    "\n",
    "            self.X_val = torch.tensor(X_val, dtype=torch.float32)\n",
    "            self.y_val = torch.tensor(y_val, dtype=torch.float32)\n",
    "\n",
    "        if stage == \"test\":\n",
    "            X_teste = df_teste.reindex(features, axis=1).values\n",
    "            y_teste = df_teste.reindex(target, axis=1).values\n",
    "\n",
    "            X_teste = self.x_scaler.transform(X_teste)\n",
    "            y_teste = self.y_scaler.transform(y_teste)\n",
    "\n",
    "            self.X_teste = torch.tensor(X_teste, dtype=torch.float32)\n",
    "            self.y_teste = torch.tensor(y_teste, dtype=torch.float32)\n",
    "\n",
    "    def train_dataloader(self):\n",
    "        return DataLoader(\n",
    "            TensorDataset(self.X_treino, self.y_treino),\n",
    "            batch_size=self.batch_size,\n",
    "            num_workers=self.num_workers,\n",
    "        )\n",
    "\n",
    "    def val_dataloader(self):\n",
    "        return DataLoader(\n",
    "            TensorDataset(self.X_val, self.y_val),\n",
    "            batch_size=self.batch_size,\n",
    "            num_workers=self.num_workers,\n",
    "        )\n",
    "\n",
    "    def test_dataloader(self):\n",
    "        return DataLoader(\n",
    "            TensorDataset(self.X_teste, self.y_teste),\n",
    "            batch_size=self.batch_size,\n",
    "            num_workers=self.num_workers,\n",
    "        )"
   ]
  },
  {
   "cell_type": "markdown",
   "id": "dcab12c2-d538-4f19-ae0d-5adbaae588da",
   "metadata": {},
   "source": [
    "#### Criando a rede neural"
   ]
  },
  {
   "cell_type": "code",
   "execution_count": 7,
   "id": "51c8ff1e-07bd-4450-94dd-724e176ebd75",
   "metadata": {},
   "outputs": [],
   "source": [
    "class MLP(pl.LightningModule):\n",
    "    def __init__(\n",
    "        self, num_dados_entrada, neuronios_c1, neuronios_c2, num_targets\n",
    "    ):\n",
    "        super().__init__()\n",
    "\n",
    "        self.camadas = nn.Sequential(\n",
    "            nn.Linear(num_dados_entrada, neuronios_c1),\n",
    "            nn.ReLU(),\n",
    "            nn.Dropout(0.05),\n",
    "            \n",
    "            nn.Linear(neuronios_c1, neuronios_c2),\n",
    "            nn.ReLU(),\n",
    "            nn.Dropout(0.05),\n",
    "            \n",
    "            nn.Linear(neuronios_c2, num_targets),\n",
    "        )\n",
    "\n",
    "        self.fun_perda = F.l1_loss\n",
    "\n",
    "        self.perdas_treino = []\n",
    "        self.perdas_val = []\n",
    "\n",
    "        self.curva_aprendizado_treino = []\n",
    "        self.curva_aprendizado_val = []\n",
    "\n",
    "    def forward(self, x):\n",
    "        x = self.camadas(x)\n",
    "        return x\n",
    "\n",
    "    def training_step(self, batch, batch_idx):\n",
    "        x, y = batch\n",
    "        y_pred = self(x)\n",
    "        loss = self.fun_perda(y, y_pred)\n",
    "\n",
    "        self.log(\"loss\", loss, prog_bar=True)\n",
    "        self.perdas_treino.append(loss)\n",
    "\n",
    "        return loss\n",
    "\n",
    "    def validation_step(self, batch, batch_idx):\n",
    "        x, y = batch\n",
    "        y_pred = self(x)\n",
    "        loss = self.fun_perda(y, y_pred)\n",
    "\n",
    "        self.log(\"val_loss\", loss, prog_bar=True)\n",
    "        self.perdas_val.append(loss)\n",
    "\n",
    "        return loss\n",
    "\n",
    "    def test_step(self, batch, batch_idx):\n",
    "        x, y = batch\n",
    "        y_pred = self(x)\n",
    "        loss = self.fun_perda(y, y_pred)\n",
    "\n",
    "        self.log(\"test_loss\", loss)\n",
    "\n",
    "        return loss\n",
    "\n",
    "    def on_train_epoch_end(self):\n",
    "        # Atualiza curva de aprendizado\n",
    "        perda_media = torch.stack(self.perdas_treino).mean()\n",
    "        self.curva_aprendizado_treino.append(float(perda_media))\n",
    "        self.perdas_treino.clear()\n",
    "\n",
    "    def on_validation_epoch_end(self):\n",
    "        # Atualiza curva de aprendizado\n",
    "        perda_media = torch.stack(self.perdas_val).mean()\n",
    "        self.curva_aprendizado_val.append(float(perda_media))\n",
    "        self.perdas_val.clear()\n",
    "\n",
    "    def configure_optimizers(self):\n",
    "        optimizer = optim.Adam(self.parameters(), lr=1e-3)\n",
    "        return optimizer"
   ]
  },
  {
   "cell_type": "code",
   "execution_count": 8,
   "id": "0a2920aa-a15b-41d5-99cf-db290f4b2364",
   "metadata": {},
   "outputs": [
    {
     "name": "stderr",
     "output_type": "stream",
     "text": [
      "GPU available: False, used: False\n",
      "TPU available: False, using: 0 TPU cores\n",
      "IPU available: False, using: 0 IPUs\n",
      "HPU available: False, using: 0 HPUs\n"
     ]
    }
   ],
   ]
  },
  {
   "cell_type": "code",
   "execution_count": 9,
   "id": "c1fbb0a8-7e0d-442a-9480-1c13d952b29f",
   "metadata": {},
   "outputs": [],
   "source": [
    "num_dados_de_entrada = 64\n",
    "num_dados_de_saida = 1\n",
    "neuronios_c1 = 8\n",
    "neuronios_c2 = 6\n",
    "\n",
    "minha_mlp = MLP(\n",
    "    num_dados_de_entrada, neuronios_c1, neuronios_c2, num_dados_de_saida\n",
    ")"
   ]
  },
  {
   "cell_type": "code",
   "execution_count": 10,
   "id": "91b8f1cc-c552-44f3-b80a-42c1cb92f925",
   "metadata": {},
   "outputs": [
    {
     "name": "stderr",
     "output_type": "stream",
     "text": [
      "\n",
      "  | Name    | Type       | Params\n",
      "---------------------------------------\n",
      "0 | camadas | Sequential | 581   \n",
      "---------------------------------------\n",
      "581       Trainable params\n",
      "0         Non-trainable params\n",
      "581       Total params\n",
      "0.002     Total estimated model params size (MB)\n"
     ]
    },
    {
     "data": {
      "application/vnd.jupyter.widget-view+json": {
       "model_id": "",
       "version_major": 2,
       "version_minor": 0
      },
      "text/plain": [
       "Sanity Checking: 0it [00:00, ?it/s]"
      ]
     },
     "metadata": {},
     "output_type": "display_data"
    },
    {
     "name": "stderr",
     "output_type": "stream",
     "text": [
      "c:\\venv\\ilumpy\\lib\\site-packages\\pytorch_lightning\\trainer\\trainer.py:1558: PossibleUserWarning: The number of training batches (8) is smaller than the logging interval Trainer(log_every_n_steps=50). Set a lower value for log_every_n_steps if you want to see logs for the training epoch.\n",
      "  rank_zero_warn(\n"
     ]
    },
    {
     "data": {
      "application/vnd.jupyter.widget-view+json": {
       "model_id": "ac689548de7449e786eae2281a066b8c",
       "version_major": 2,
       "version_minor": 0
      },
      "text/plain": [
       "Training: 0it [00:00, ?it/s]"
      ]
     },
     "metadata": {},
     "output_type": "display_data"
    },
    {
     "name": "stderr",
     "output_type": "stream",
     "text": [
      "c:\\venv\\ilumpy\\lib\\site-packages\\pytorch_lightning\\callbacks\\progress\\base.py:249: UserWarning: The progress bar already tracks a metric with the name(s) 'loss' and `self.log('loss', ..., prog_bar=True)` will overwrite this value.  If this is undesired, change the name or override `get_metrics()` in the progress bar callback.\n",
      "  rank_zero_warn(\n"
     ]
    },
    {
     "data": {
      "application/vnd.jupyter.widget-view+json": {
       "model_id": "",
       "version_major": 2,
       "version_minor": 0
      },
      "text/plain": [
       "Validation: 0it [00:00, ?it/s]"
      ]
     },
     "metadata": {},
     "output_type": "display_data"
    },
    {
     "data": {
      "application/vnd.jupyter.widget-view+json": {
       "model_id": "",
       "version_major": 2,
       "version_minor": 0
      },
      "text/plain": [
       "Validation: 0it [00:00, ?it/s]"
      ]
     },
     "metadata": {},
     "output_type": "display_data"
    },
    {
     "data": {
      "application/vnd.jupyter.widget-view+json": {
       "model_id": "",
       "version_major": 2,
       "version_minor": 0
      },
      "text/plain": [
       "Validation: 0it [00:00, ?it/s]"
      ]
     },
     "metadata": {},
     "output_type": "display_data"
    },
    {
     "data": {
      "application/vnd.jupyter.widget-view+json": {
       "model_id": "",
       "version_major": 2,
       "version_minor": 0
      },
      "text/plain": [
       "Validation: 0it [00:00, ?it/s]"
      ]
     },
     "metadata": {},
     "output_type": "display_data"
    },
    {
     "data": {
      "application/vnd.jupyter.widget-view+json": {
       "model_id": "",
       "version_major": 2,
       "version_minor": 0
      },
      "text/plain": [
       "Validation: 0it [00:00, ?it/s]"
      ]
     },
     "metadata": {},
     "output_type": "display_data"
    },
    {
     "data": {
      "application/vnd.jupyter.widget-view+json": {
       "model_id": "",
       "version_major": 2,
       "version_minor": 0
      },
      "text/plain": [
       "Validation: 0it [00:00, ?it/s]"
      ]
     },
     "metadata": {},
     "output_type": "display_data"
    },
    {
     "data": {
      "application/vnd.jupyter.widget-view+json": {
       "model_id": "",
       "version_major": 2,
       "version_minor": 0
      },
      "text/plain": [
       "Validation: 0it [00:00, ?it/s]"
      ]
     },
     "metadata": {},
     "output_type": "display_data"
    },
    {
     "data": {
      "application/vnd.jupyter.widget-view+json": {
       "model_id": "",
       "version_major": 2,
       "version_minor": 0
      },
      "text/plain": [
       "Validation: 0it [00:00, ?it/s]"
      ]
     },
     "metadata": {},
     "output_type": "display_data"
    },
    {
     "data": {
      "application/vnd.jupyter.widget-view+json": {
       "model_id": "",
       "version_major": 2,
       "version_minor": 0
      },
      "text/plain": [
       "Validation: 0it [00:00, ?it/s]"
      ]
     },
     "metadata": {},
     "output_type": "display_data"
    },
    {
     "data": {
      "application/vnd.jupyter.widget-view+json": {
       "model_id": "",
       "version_major": 2,
       "version_minor": 0
      },
      "text/plain": [
       "Validation: 0it [00:00, ?it/s]"
      ]
     },
     "metadata": {},
     "output_type": "display_data"
    },
    {
     "data": {
      "application/vnd.jupyter.widget-view+json": {
       "model_id": "",
       "version_major": 2,
       "version_minor": 0
      },
      "text/plain": [
       "Validation: 0it [00:00, ?it/s]"
      ]
     },
     "metadata": {},
     "output_type": "display_data"
    },
    {
     "data": {
      "application/vnd.jupyter.widget-view+json": {
       "model_id": "",
       "version_major": 2,
       "version_minor": 0
      },
      "text/plain": [
       "Validation: 0it [00:00, ?it/s]"
      ]
     },
     "metadata": {},
     "output_type": "display_data"
    },
    {
     "data": {
      "application/vnd.jupyter.widget-view+json": {
       "model_id": "",
       "version_major": 2,
       "version_minor": 0
      },
      "text/plain": [
       "Validation: 0it [00:00, ?it/s]"
      ]
     },
     "metadata": {},
     "output_type": "display_data"
    },
    {
     "data": {
      "application/vnd.jupyter.widget-view+json": {
       "model_id": "",
       "version_major": 2,
       "version_minor": 0
      },
      "text/plain": [
       "Validation: 0it [00:00, ?it/s]"
      ]
     },
     "metadata": {},
     "output_type": "display_data"
    },
    {
     "data": {
      "application/vnd.jupyter.widget-view+json": {
       "model_id": "",
       "version_major": 2,
       "version_minor": 0
      },
      "text/plain": [
       "Validation: 0it [00:00, ?it/s]"
      ]
     },
     "metadata": {},
     "output_type": "display_data"
    },
    {
     "data": {
      "application/vnd.jupyter.widget-view+json": {
       "model_id": "",
       "version_major": 2,
       "version_minor": 0
      },
      "text/plain": [
       "Validation: 0it [00:00, ?it/s]"
      ]
     },
     "metadata": {},
     "output_type": "display_data"
    },
    {
     "data": {
      "application/vnd.jupyter.widget-view+json": {
       "model_id": "",
       "version_major": 2,
       "version_minor": 0
      },
      "text/plain": [
       "Validation: 0it [00:00, ?it/s]"
      ]
     },
     "metadata": {},
     "output_type": "display_data"
    },
    {
     "data": {
      "application/vnd.jupyter.widget-view+json": {
       "model_id": "",
       "version_major": 2,
       "version_minor": 0
      },
      "text/plain": [
       "Validation: 0it [00:00, ?it/s]"
      ]
     },
     "metadata": {},
     "output_type": "display_data"
    },
    {
     "data": {
      "application/vnd.jupyter.widget-view+json": {
       "model_id": "",
       "version_major": 2,
       "version_minor": 0
      },
      "text/plain": [
       "Validation: 0it [00:00, ?it/s]"
      ]
     },
     "metadata": {},
     "output_type": "display_data"
    },
    {
     "data": {
      "application/vnd.jupyter.widget-view+json": {
       "model_id": "",
       "version_major": 2,
       "version_minor": 0
      },
      "text/plain": [
       "Validation: 0it [00:00, ?it/s]"
      ]
     },
     "metadata": {},
     "output_type": "display_data"
    },
    {
     "data": {
      "application/vnd.jupyter.widget-view+json": {
       "model_id": "",
       "version_major": 2,
       "version_minor": 0
      },
      "text/plain": [
       "Validation: 0it [00:00, ?it/s]"
      ]
     },
     "metadata": {},
     "output_type": "display_data"
    },
    {
     "data": {
      "application/vnd.jupyter.widget-view+json": {
       "model_id": "",
       "version_major": 2,
       "version_minor": 0
      },
      "text/plain": [
       "Validation: 0it [00:00, ?it/s]"
      ]
     },
     "metadata": {},
     "output_type": "display_data"
    },
    {
     "data": {
      "application/vnd.jupyter.widget-view+json": {
       "model_id": "",
       "version_major": 2,
       "version_minor": 0
      },
      "text/plain": [
       "Validation: 0it [00:00, ?it/s]"
      ]
     },
     "metadata": {},
     "output_type": "display_data"
    },
    {
     "data": {
      "application/vnd.jupyter.widget-view+json": {
       "model_id": "",
       "version_major": 2,
       "version_minor": 0
      },
      "text/plain": [
       "Validation: 0it [00:00, ?it/s]"
      ]
     },
     "metadata": {},
     "output_type": "display_data"
    },
    {
     "data": {
      "application/vnd.jupyter.widget-view+json": {
       "model_id": "",
       "version_major": 2,
       "version_minor": 0
      },
      "text/plain": [
       "Validation: 0it [00:00, ?it/s]"
      ]
     },
     "metadata": {},
     "output_type": "display_data"
    },
    {
     "data": {
      "application/vnd.jupyter.widget-view+json": {
       "model_id": "",
       "version_major": 2,
       "version_minor": 0
      },
      "text/plain": [
       "Validation: 0it [00:00, ?it/s]"
      ]
     },
     "metadata": {},
     "output_type": "display_data"
    },
    {
     "data": {
      "application/vnd.jupyter.widget-view+json": {
       "model_id": "",
       "version_major": 2,
       "version_minor": 0
      },
      "text/plain": [
       "Validation: 0it [00:00, ?it/s]"
      ]
     },
     "metadata": {},
     "output_type": "display_data"
    },
    {
     "data": {
      "application/vnd.jupyter.widget-view+json": {
       "model_id": "",
       "version_major": 2,
       "version_minor": 0
      },
      "text/plain": [
       "Validation: 0it [00:00, ?it/s]"
      ]
     },
     "metadata": {},
     "output_type": "display_data"
    },
    {
     "data": {
      "application/vnd.jupyter.widget-view+json": {
       "model_id": "",
       "version_major": 2,
       "version_minor": 0
      },
      "text/plain": [
       "Validation: 0it [00:00, ?it/s]"
      ]
     },
     "metadata": {},
     "output_type": "display_data"
    },
    {
     "data": {
      "application/vnd.jupyter.widget-view+json": {
       "model_id": "",
       "version_major": 2,
       "version_minor": 0
      },
      "text/plain": [
       "Validation: 0it [00:00, ?it/s]"
      ]
     },
     "metadata": {},
     "output_type": "display_data"
    },
    {
     "data": {
      "application/vnd.jupyter.widget-view+json": {
       "model_id": "",
       "version_major": 2,
       "version_minor": 0
      },
      "text/plain": [
       "Validation: 0it [00:00, ?it/s]"
      ]
     },
     "metadata": {},
     "output_type": "display_data"
    },
    {
     "data": {
      "application/vnd.jupyter.widget-view+json": {
       "model_id": "",
       "version_major": 2,
       "version_minor": 0
      },
      "text/plain": [
       "Validation: 0it [00:00, ?it/s]"
      ]
     },
     "metadata": {},
     "output_type": "display_data"
    },
    {
     "data": {
      "application/vnd.jupyter.widget-view+json": {
       "model_id": "",
       "version_major": 2,
       "version_minor": 0
      },
      "text/plain": [
       "Validation: 0it [00:00, ?it/s]"
      ]
     },
     "metadata": {},
     "output_type": "display_data"
    },
    {
     "data": {
      "application/vnd.jupyter.widget-view+json": {
       "model_id": "",
       "version_major": 2,
       "version_minor": 0
      },
      "text/plain": [
       "Validation: 0it [00:00, ?it/s]"
      ]
     },
     "metadata": {},
     "output_type": "display_data"
    },
    {
     "data": {
      "application/vnd.jupyter.widget-view+json": {
       "model_id": "",
       "version_major": 2,
       "version_minor": 0
      },
      "text/plain": [
       "Validation: 0it [00:00, ?it/s]"
      ]
     },
     "metadata": {},
     "output_type": "display_data"
    },
    {
     "data": {
      "application/vnd.jupyter.widget-view+json": {
       "model_id": "",
       "version_major": 2,
       "version_minor": 0
      },
      "text/plain": [
       "Validation: 0it [00:00, ?it/s]"
      ]
     },
     "metadata": {},
     "output_type": "display_data"
    },
    {
     "data": {
      "application/vnd.jupyter.widget-view+json": {
       "model_id": "",
       "version_major": 2,
       "version_minor": 0
      },
      "text/plain": [
       "Validation: 0it [00:00, ?it/s]"
      ]
     },
     "metadata": {},
     "output_type": "display_data"
    },
    {
     "data": {
      "application/vnd.jupyter.widget-view+json": {
       "model_id": "",
       "version_major": 2,
       "version_minor": 0
      },
      "text/plain": [
       "Validation: 0it [00:00, ?it/s]"
      ]
     },
     "metadata": {},
     "output_type": "display_data"
    },
    {
     "data": {
      "application/vnd.jupyter.widget-view+json": {
       "model_id": "",
       "version_major": 2,
       "version_minor": 0
      },
      "text/plain": [
       "Validation: 0it [00:00, ?it/s]"
      ]
     },
     "metadata": {},
     "output_type": "display_data"
    },
    {
     "data": {
      "application/vnd.jupyter.widget-view+json": {
       "model_id": "",
       "version_major": 2,
       "version_minor": 0
      },
      "text/plain": [
       "Validation: 0it [00:00, ?it/s]"
      ]
     },
     "metadata": {},
     "output_type": "display_data"
    },
    {
     "name": "stderr",
     "output_type": "stream",
     "text": [
      "`Trainer.fit` stopped: `max_epochs=40` reached.\n"
     ]
    }
   ],
   "source": [
    "treinador.fit(minha_mlp, dm)"
   ]
  },
  {
   "cell_type": "markdown",
   "id": "dc023bf6-d2ba-4e68-86aa-f92a873e28a9",
   "metadata": {},
   "source": [
    "#### Testando a rede"
   ]
  },
  {
   "cell_type": "code",
   "execution_count": 17,
   "id": "e7b88f0c-6993-48a2-92c5-b4dc04836f83",
   "metadata": {},
   "outputs": [
    {
     "data": {
      "text/plain": [
       "MLP(\n",
       "  (camadas): Sequential(\n",
       "    (0): Linear(in_features=64, out_features=8, bias=True)\n",
       "    (1): ReLU()\n",
       "    (2): Dropout(p=0.05, inplace=False)\n",
       "    (3): Linear(in_features=8, out_features=6, bias=True)\n",
       "    (4): ReLU()\n",
       "    (5): Dropout(p=0.05, inplace=False)\n",
       "    (6): Linear(in_features=6, out_features=1, bias=True)\n",
       "  )\n",
       ")"
      ]
     },
     "execution_count": 17,
     "metadata": {},
     "output_type": "execute_result"
    }
   ],
   "source": [
    "minha_mlp.eval()"
   ]
  },
  {
   "cell_type": "code",
   "execution_count": 18,
   "id": "95b48784-d512-4b99-9007-eb8f5693701b",
   "metadata": {},
   "outputs": [
    {
     "name": "stdout",
     "output_type": "stream",
     "text": [
      "tensor([0.8309])\n",
      "[0.57163153]\n",
      "0.05443610392467622\n"
     ]
    }
   ],
   "source": [
    "dm.setup(\"test\")\n",
    "\n",
    "with torch.no_grad():\n",
    "    X_true = dm.X_teste\n",
    "\n",
    "    y_true = dm.y_teste\n",
    "    y_true = dm.y_scaler.inverse_transform(y_true)\n",
    "\n",
    "    y_pred = minha_mlp(X_true)\n",
    "    print(y_pred[0])\n",
    "    y_pred = dm.y_scaler.inverse_transform(y_pred)\n",
    "    print(y_pred[0])\n",
    "    \n",
    "    RMSE = mean_squared_error(y_true, y_pred, squared = False)\n",
    "\n",
    "    print(RMSE)"
   ]
  },
  {
   "cell_type": "code",
   "execution_count": 19,
   "id": "1365214b-8581-41ac-ae5f-5fdf101b8a90",
   "metadata": {},
   "outputs": [
    {
     "data": {
      "image/png": "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\n",
      "text/plain": [
       "<Figure size 640x480 with 1 Axes>"
      ]
     },
     "metadata": {},
     "output_type": "display_data"
    }
   ],
   "source": [
    "figura, eixo = plt.subplots()\n",
    "\n",
    "ca_treino = minha_mlp.curva_aprendizado_treino\n",
    "ca_val = minha_mlp.curva_aprendizado_val\n",
    "\n",
    "eixo.plot(ca_treino, label=\"Treino\")\n",
    "eixo.plot(ca_val, label=\"Validação\")\n",
    "\n",
    "eixo.legend()\n",
    "\n",
    "eixo.set_xlim(left=0)\n",
    "\n",
    "eixo.set_title(\"Curva de aprendizado\")\n",
    "eixo.set_xlabel(\"Época\")\n",
    "eixo.set_ylabel(\"Loss\");"
   ]
  },
  {
   "cell_type": "code",
   "execution_count": 20,
   "id": "421bc29f-b220-4b45-be9b-e6c24fb79411",
   "metadata": {},
   "outputs": [
    {
     "data": {
      "text/plain": [
       "<matplotlib.collections.PathCollection at 0x1e4fddac160>"
      ]
     },
     "execution_count": 20,
     "metadata": {},
     "output_type": "execute_result"
    },
    {
     "data": {
      "image/png": "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\n",
      "text/plain": [
       "<Figure size 640x480 with 1 Axes>"
      ]
     },
     "metadata": {},
     "output_type": "display_data"
    }
   ],
   "source": [
    "plt.scatter(y_pred, y_true)"
   ]
  },
  {
   "cell_type": "code",
   "execution_count": 21,
   "id": "fce31a3b-c9d0-4bb3-bde6-25a6f51d6e52",
   "metadata": {},
   "outputs": [
    {
     "data": {
      "text/plain": [
       "array([[0.57163153],\n",
       "       [0.58166774],\n",
       "       [0.58633901],\n",
       "       [0.54587818],\n",
       "       [0.5577454 ],\n",
       "       [0.52715733],\n",
       "       [0.57339307],\n",
       "       [0.54186682],\n",
       "       [0.55917556],\n",
       "       [0.54120602],\n",
       "       [0.58855832],\n",
       "       [0.53518194],\n",
       "       [0.60982843],\n",
       "       [0.55060964],\n",
       "       [0.5718515 ],\n",
       "       [0.56824181],\n",
       "       [0.57272283],\n",
       "       [0.54799333],\n",
       "       [0.5005429 ],\n",
       "       [0.56670872],\n",
       "       [0.51736495],\n",
       "       [0.52966694],\n",
       "       [0.52269021],\n",
       "       [0.51069008],\n",
       "       [0.63571124],\n",
       "       [0.57200593],\n",
       "       [0.55824947],\n",
       "       [0.56368418],\n",
       "       [0.54184918],\n",
       "       [0.58119312],\n",
       "       [0.56510954],\n",
       "       [0.53949192],\n",
       "       [0.56662146],\n",
       "       [0.56868921],\n",
       "       [0.50511189],\n",
       "       [0.60667996],\n",
       "       [0.53611282],\n",
       "       [0.5624605 ],\n",
       "       [0.50716446],\n",
       "       [0.57671656],\n",
       "       [0.57170854],\n",
       "       [0.52849505],\n",
       "       [0.54553621],\n",
       "       [0.55260927],\n",
       "       [0.57696372],\n",
       "       [0.48533808],\n",
       "       [0.54221083],\n",
       "       [0.51029152],\n",
       "       [0.51211868],\n",
       "       [0.53828448],\n",
       "       [0.56714817],\n",
       "       [0.57064049],\n",
       "       [0.51576318],\n",
       "       [0.54024811],\n",
       "       [0.58409997],\n",
       "       [0.53531743],\n",
       "       [0.53069362],\n",
       "       [0.57230582],\n",
       "       [0.56524613]])"
      ]
     },
     "execution_count": 21,
     "metadata": {},
     "output_type": "execute_result"
    }
   ],
   "source": [
    "y_pred"
   ]
  },
  {
   "cell_type": "code",
   "execution_count": 22,
   "id": "d9b42424-67ac-4f84-acea-eae1ebd23eb3",
   "metadata": {},
   "outputs": [
    {
     "data": {
      "text/plain": [
       "array([[0.563     ],\n",
       "       [0.60899998],\n",
       "       [0.60899998],\n",
       "       [0.56999998],\n",
       "       [0.606     ],\n",
       "       [0.50300001],\n",
       "       [0.53899999],\n",
       "       [0.58500001],\n",
       "       [0.62699999],\n",
       "       [0.561     ],\n",
       "       [0.60699998],\n",
       "       [0.58500001],\n",
       "       [0.6       ],\n",
       "       [0.606     ],\n",
       "       [0.57700001],\n",
       "       [0.555     ],\n",
       "       [0.604     ],\n",
       "       [0.561     ],\n",
       "       [0.62099999],\n",
       "       [0.62600001],\n",
       "       [0.54600001],\n",
       "       [0.54699999],\n",
       "       [0.55400002],\n",
       "       [0.688     ],\n",
       "       [0.57399999],\n",
       "       [0.59900002],\n",
       "       [0.63200001],\n",
       "       [0.59900002],\n",
       "       [0.57199999],\n",
       "       [0.53400001],\n",
       "       [0.61899999],\n",
       "       [0.57199999],\n",
       "       [0.61699999],\n",
       "       [0.563     ],\n",
       "       [0.61099998],\n",
       "       [0.62800001],\n",
       "       [0.59300002],\n",
       "       [0.57799999],\n",
       "       [0.62000001],\n",
       "       [0.6       ],\n",
       "       [0.61      ],\n",
       "       [0.596     ],\n",
       "       [0.51      ],\n",
       "       [0.61499999],\n",
       "       [0.61299998],\n",
       "       [0.38999998],\n",
       "       [0.57100001],\n",
       "       [0.553     ],\n",
       "       [0.57300001],\n",
       "       [0.62000001],\n",
       "       [0.62800001],\n",
       "       [0.58700001],\n",
       "       [0.55200002],\n",
       "       [0.506     ],\n",
       "       [0.65599998],\n",
       "       [0.58100001],\n",
       "       [0.59300002],\n",
       "       [0.57999999],\n",
       "       [0.604     ]])"
      ]
     },
     "execution_count": 22,
     "metadata": {},
     "output_type": "execute_result"
    }
   ],
   "source": [
    "y_true"
   ]
  },
  {
   "cell_type": "code",
   "execution_count": null,
   "id": "f503a527-4ae9-4bf1-883e-57b32cf5d0d6",
   "metadata": {},
   "outputs": [],
   "source": []
  }
 ],
 "metadata": {
  "kernelspec": {
   "display_name": "ilumpy",
   "language": "python",
   "name": "ilumpy"
  },
  "language_info": {
   "codemirror_mode": {
    "name": "ipython",
    "version": 3
   },
   "file_extension": ".py",
   "mimetype": "text/x-python",
   "name": "python",
   "nbconvert_exporter": "python",
   "pygments_lexer": "ipython3",
   "version": "3.10.8"
  }
 },
 "nbformat": 4,
 "nbformat_minor": 5
}
