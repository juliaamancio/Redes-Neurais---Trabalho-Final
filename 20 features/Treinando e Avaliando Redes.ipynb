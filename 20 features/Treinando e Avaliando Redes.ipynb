{
 "cells": [
  {
   "cell_type": "code",
   "execution_count": 2,
   "id": "1320d184-2903-4ca1-8959-fbf7508877fd",
   "metadata": {},
   "outputs": [],
   "source": [
    "import pickle\n",
    "import matplotlib.pyplot as plt\n",
    "import numpy as np\n",
    "import pandas as pd\n",
    "import torch\n",
    "import torch.nn as nn\n",
    "import torch.optim as optim\n",
    "from scipy import stats\n",
    "from sklearn.metrics import mean_squared_error\n",
    "from sklearn.model_selection import train_test_split\n",
    "from sklearn.preprocessing import MaxAbsScaler\n",
    "from torch.nn import functional as F\n",
    "from torch.utils.data import DataLoader, TensorDataset\n",
    "import pytorch_lightning as pl"
   ]
  },
  {
   "cell_type": "code",
   "execution_count": 3,
   "id": "a44f58df-78de-4dc1-b567-738f5875296e",
   "metadata": {},
   "outputs": [],
   "source": [
    "TAMANHO_TESTE = 0.1\n",
    "TAMANHO_VALIDACAO = 0.1\n",
    "\n",
    "SEMENTE_ALEATORIA = 14042003\n",
    "\n",
    "NUM_EPOCAS = 40"
   ]
  },
  {
   "cell_type": "code",
   "execution_count": 20,
   "id": "00e7004d-4a5d-4a61-8e6a-38883db114d6",
   "metadata": {},
   "outputs": [],
   "source": [
    "dados = pickle.load(open('df_teste', 'rb'))"
   ]
  },
  {
   "cell_type": "markdown",
   "id": "d3f55535-3b57-4a8e-b36f-adea6aee792e",
   "metadata": {},
   "source": [
    "### DataModule"
   ]
  },
  {
   "cell_type": "code",
   "execution_count": 21,
   "id": "585b09f1-587e-41d4-9c3f-00e20d7f1008",
   "metadata": {
    "jupyter": {
     "source_hidden": true
    },
    "tags": []
   },
   "outputs": [],
   "source": [
    "class DataModule(pl.LightningDataModule):\n",
    "    def __init__(\n",
    "        self,\n",
    "        batch_size = 64,\n",
    "        num_workers = 4,\n",
    "    ):\n",
    "        super().__init__()\n",
    "\n",
    "        self.batch_size = batch_size\n",
    "        self.num_workers = num_workers\n",
    "\n",
    "\n",
    "    def setup(self, stage):\n",
    "       \n",
    "        features = list(dados.columns)[1:]\n",
    "        target = [\"Trg\"]\n",
    "\n",
    "        df = dados\n",
    "\n",
    "        df = df.reindex(features + target, axis=1)\n",
    "\n",
    "        indices = df.index\n",
    "        indices_treino_val, indices_teste = train_test_split(\n",
    "            indices, test_size=TAMANHO_TESTE, random_state=SEMENTE_ALEATORIA\n",
    "        )\n",
    "\n",
    "        df_treino_val = df.loc[indices_treino_val]\n",
    "        df_teste = df.loc[indices_teste]\n",
    "\n",
    "        indices = df_treino_val.index\n",
    "        indices_treino, indices_val = train_test_split(\n",
    "            indices,\n",
    "            test_size=TAMANHO_TESTE,\n",
    "            random_state=SEMENTE_ALEATORIA,\n",
    "        )\n",
    "\n",
    "        df_treino = df.loc[indices_treino]\n",
    "        df_val = df.loc[indices_val]\n",
    "\n",
    "        X_treino = df_treino.reindex(features, axis=1).values\n",
    "        y_treino = df_treino.reindex(target, axis=1).values\n",
    "\n",
    "        self.x_scaler = MaxAbsScaler()\n",
    "        self.x_scaler.fit(X_treino)\n",
    "\n",
    "        self.y_scaler = MaxAbsScaler()\n",
    "        self.y_scaler.fit(y_treino)\n",
    "\n",
    "        if stage == \"fit\":\n",
    "            X_val = df_val.reindex(features, axis=1).values\n",
    "            y_val = df_val.reindex(target, axis=1).values\n",
    "\n",
    "            X_treino = self.x_scaler.transform(X_treino)\n",
    "            y_treino = self.y_scaler.transform(y_treino)\n",
    "\n",
    "            X_val = self.x_scaler.transform(X_val)\n",
    "            y_val = self.y_scaler.transform(y_val)\n",
    "\n",
    "            self.X_treino = torch.tensor(X_treino, dtype=torch.float32)\n",
    "            self.y_treino = torch.tensor(y_treino, dtype=torch.float32)\n",
    "\n",
    "            self.X_val = torch.tensor(X_val, dtype=torch.float32)\n",
    "            self.y_val = torch.tensor(y_val, dtype=torch.float32)\n",
    "\n",
    "        if stage == \"test\":\n",
    "            X_teste = df_teste.reindex(features, axis=1).values\n",
    "            y_teste = df_teste.reindex(target, axis=1).values\n",
    "\n",
    "            X_teste = self.x_scaler.transform(X_teste)\n",
    "            y_teste = self.y_scaler.transform(y_teste)\n",
    "\n",
    "            self.X_teste = torch.tensor(X_teste, dtype=torch.float32)\n",
    "            self.y_teste = torch.tensor(y_teste, dtype=torch.float32)\n",
    "\n",
    "    def train_dataloader(self):\n",
    "        return DataLoader(\n",
    "            TensorDataset(self.X_treino, self.y_treino),\n",
    "            batch_size=self.batch_size,\n",
    "            num_workers=self.num_workers,\n",
    "        )\n",
    "\n",
    "    def val_dataloader(self):\n",
    "        return DataLoader(\n",
    "            TensorDataset(self.X_val, self.y_val),\n",
    "            batch_size=self.batch_size,\n",
    "            num_workers=self.num_workers,\n",
    "        )\n",
    "\n",
    "    def test_dataloader(self):\n",
    "        return DataLoader(\n",
    "            TensorDataset(self.X_teste, self.y_teste),\n",
    "            batch_size=self.batch_size,\n",
    "            num_workers=self.num_workers,\n",
    "        )"
   ]
  },
  {
   "cell_type": "markdown",
   "id": "3cfe45c8-77fd-4ae1-82ed-794b9929163d",
   "metadata": {},
   "source": [
    "### MLP"
   ]
  },
  {
   "cell_type": "code",
   "execution_count": 22,
   "id": "61e1744d-1b91-4036-9fa9-4411f858f86f",
   "metadata": {
    "jupyter": {
     "source_hidden": true
    },
    "tags": []
   },
   "outputs": [],
   "source": [
    "class MLP(pl.LightningModule):\n",
    "    def __init__(\n",
    "        self, num_dados_entrada, num_camadas, num_neuronios, ativacao, taxa_dropout, num_targets, lr\n",
    "    ):\n",
    "        super().__init__()\n",
    "\n",
    "        self.lr = lr\n",
    "        \n",
    "        camadas =[]\n",
    "        \n",
    "        for _ in range(num_camadas):\n",
    "            \n",
    "            camadas.append(nn.Linear(num_dados_entrada, num_neuronios))\n",
    "            camadas.append(ativacao)\n",
    "            camadas.append(nn.Dropout(taxa_dropout))\n",
    "            num_dados_entrada = num_neuronios\n",
    "            \n",
    "        camadas.append(nn.Linear(num_neuronios, num_targets))\n",
    "            \n",
    "        self.camadas = nn.Sequential(*camadas)\n",
    "\n",
    "        self.fun_perda = F.l1_loss\n",
    "\n",
    "        self.perdas_treino = []\n",
    "        self.perdas_val = []\n",
    "\n",
    "        self.curva_aprendizado_treino = []\n",
    "        self.curva_aprendizado_val = []\n",
    "\n",
    "    def forward(self, x):\n",
    "        x = self.camadas(x)\n",
    "        return x\n",
    "\n",
    "    def training_step(self, batch, batch_idx):\n",
    "        x, y = batch\n",
    "        y_pred = self(x)\n",
    "        loss = self.fun_perda(y, y_pred)\n",
    "\n",
    "        self.log(\"loss\", loss, prog_bar=True)\n",
    "        self.perdas_treino.append(loss)\n",
    "\n",
    "        return loss\n",
    "\n",
    "    def validation_step(self, batch, batch_idx):\n",
    "        x, y = batch\n",
    "        y_pred = self(x)\n",
    "        loss = self.fun_perda(y, y_pred)\n",
    "\n",
    "        self.log(\"val_loss\", loss, prog_bar=True)\n",
    "        self.perdas_val.append(loss)\n",
    "\n",
    "        return loss\n",
    "\n",
    "    def test_step(self, batch, batch_idx):\n",
    "        x, y = batch\n",
    "        y_pred = self(x)\n",
    "        loss = self.fun_perda(y, y_pred)\n",
    "\n",
    "        self.log(\"test_loss\", loss)\n",
    "\n",
    "        return loss\n",
    "\n",
    "    def on_train_epoch_end(self):\n",
    "        # Atualiza curva de aprendizado\n",
    "        perda_media = torch.stack(self.perdas_treino).mean()\n",
    "        self.curva_aprendizado_treino.append(float(perda_media))\n",
    "        self.perdas_treino.clear()\n",
    "\n",
    "    def on_validation_epoch_end(self):\n",
    "        # Atualiza curva de aprendizado\n",
    "        perda_media = torch.stack(self.perdas_val).mean()\n",
    "        self.curva_aprendizado_val.append(float(perda_media))\n",
    "        self.perdas_val.clear()\n",
    "\n",
    "    def configure_optimizers(self):\n",
    "        optimizer = optim.Adam(self.parameters(), lr = self.lr)\n",
    "        return optimizer"
   ]
  },
  {
   "cell_type": "markdown",
   "id": "d770c436-24bf-4831-906e-158aa74f53f5",
   "metadata": {},
   "source": [
    "### Treinador"
   ]
  },
  {
   "cell_type": "code",
   "execution_count": 23,
   "id": "88d04b44-3bea-4a56-a2f5-91f7ed27cd3a",
   "metadata": {},
   "outputs": [
    {
     "name": "stderr",
     "output_type": "stream",
     "text": [
      "GPU available: False, used: False\n",
      "TPU available: False, using: 0 TPU cores\n",
      "IPU available: False, using: 0 IPUs\n",
      "HPU available: False, using: 0 HPUs\n"
     ]
    }
   ],
   "source": [
    "treinador = pl.Trainer(max_epochs=NUM_EPOCAS)\n",
    "dm = DataModule()"
   ]
  },
  {
   "cell_type": "markdown",
   "id": "795c3dc5-6f01-4641-96ec-9ba3131ee6f2",
   "metadata": {},
   "source": [
    "### MLP with best trial"
   ]
  },
  {
   "cell_type": "code",
   "execution_count": 24,
   "id": "1464852f-cc3a-420b-b884-1988d3426171",
   "metadata": {},
   "outputs": [],
   "source": [
    "num_dados_de_entrada = 20\n",
    "num_targets = 1\n",
    "num_camadas = 3\n",
    "num_neuronios = 12\n",
    "ativacao = nn.ReLU()\n",
    "lr = 0.01\n",
    "taxa_dropout = 0\n",
    "\n",
    "mlp_best_trial = MLP(\n",
    "    num_dados_de_entrada, num_camadas, num_neuronios, ativacao, taxa_dropout, num_targets, lr\n",
    ")"
   ]
  },
  {
   "cell_type": "code",
   "execution_count": 25,
   "id": "09373cdc-658f-45c3-a9d3-e211a2f7b053",
   "metadata": {},
   "outputs": [
    {
     "name": "stderr",
     "output_type": "stream",
     "text": [
      "\n",
      "  | Name    | Type       | Params\n",
      "---------------------------------------\n",
      "0 | camadas | Sequential | 577   \n",
      "---------------------------------------\n",
      "577       Trainable params\n",
      "0         Non-trainable params\n",
      "577       Total params\n",
      "0.002     Total estimated model params size (MB)\n"
     ]
    },
    {
     "data": {
      "application/vnd.jupyter.widget-view+json": {
       "model_id": "",
       "version_major": 2,
       "version_minor": 0
      },
      "text/plain": [
       "Sanity Checking: 0it [00:00, ?it/s]"
      ]
     },
     "metadata": {},
     "output_type": "display_data"
    },
    {
     "name": "stderr",
     "output_type": "stream",
     "text": [
      "c:\\venv\\ilumpy\\lib\\site-packages\\pytorch_lightning\\trainer\\trainer.py:1558: PossibleUserWarning: The number of training batches (8) is smaller than the logging interval Trainer(log_every_n_steps=50). Set a lower value for log_every_n_steps if you want to see logs for the training epoch.\n",
      "  rank_zero_warn(\n"
     ]
    },
    {
     "data": {
      "application/vnd.jupyter.widget-view+json": {
       "model_id": "fc41859c055f4f2abac1f0476279e104",
       "version_major": 2,
       "version_minor": 0
      },
      "text/plain": [
       "Training: 0it [00:00, ?it/s]"
      ]
     },
     "metadata": {},
     "output_type": "display_data"
    },
    {
     "name": "stderr",
     "output_type": "stream",
     "text": [
      "c:\\venv\\ilumpy\\lib\\site-packages\\pytorch_lightning\\callbacks\\progress\\base.py:249: UserWarning: The progress bar already tracks a metric with the name(s) 'loss' and `self.log('loss', ..., prog_bar=True)` will overwrite this value.  If this is undesired, change the name or override `get_metrics()` in the progress bar callback.\n",
      "  rank_zero_warn(\n"
     ]
    },
    {
     "data": {
      "application/vnd.jupyter.widget-view+json": {
       "model_id": "",
       "version_major": 2,
       "version_minor": 0
      },
      "text/plain": [
       "Validation: 0it [00:00, ?it/s]"
      ]
     },
     "metadata": {},
     "output_type": "display_data"
    },
    {
     "data": {
      "application/vnd.jupyter.widget-view+json": {
       "model_id": "",
       "version_major": 2,
       "version_minor": 0
      },
      "text/plain": [
       "Validation: 0it [00:00, ?it/s]"
      ]
     },
     "metadata": {},
     "output_type": "display_data"
    },
    {
     "data": {
      "application/vnd.jupyter.widget-view+json": {
       "model_id": "",
       "version_major": 2,
       "version_minor": 0
      },
      "text/plain": [
       "Validation: 0it [00:00, ?it/s]"
      ]
     },
     "metadata": {},
     "output_type": "display_data"
    },
    {
     "data": {
      "application/vnd.jupyter.widget-view+json": {
       "model_id": "",
       "version_major": 2,
       "version_minor": 0
      },
      "text/plain": [
       "Validation: 0it [00:00, ?it/s]"
      ]
     },
     "metadata": {},
     "output_type": "display_data"
    },
    {
     "data": {
      "application/vnd.jupyter.widget-view+json": {
       "model_id": "",
       "version_major": 2,
       "version_minor": 0
      },
      "text/plain": [
       "Validation: 0it [00:00, ?it/s]"
      ]
     },
     "metadata": {},
     "output_type": "display_data"
    },
    {
     "data": {
      "application/vnd.jupyter.widget-view+json": {
       "model_id": "",
       "version_major": 2,
       "version_minor": 0
      },
      "text/plain": [
       "Validation: 0it [00:00, ?it/s]"
      ]
     },
     "metadata": {},
     "output_type": "display_data"
    },
    {
     "data": {
      "application/vnd.jupyter.widget-view+json": {
       "model_id": "",
       "version_major": 2,
       "version_minor": 0
      },
      "text/plain": [
       "Validation: 0it [00:00, ?it/s]"
      ]
     },
     "metadata": {},
     "output_type": "display_data"
    },
    {
     "data": {
      "application/vnd.jupyter.widget-view+json": {
       "model_id": "",
       "version_major": 2,
       "version_minor": 0
      },
      "text/plain": [
       "Validation: 0it [00:00, ?it/s]"
      ]
     },
     "metadata": {},
     "output_type": "display_data"
    },
    {
     "data": {
      "application/vnd.jupyter.widget-view+json": {
       "model_id": "",
       "version_major": 2,
       "version_minor": 0
      },
      "text/plain": [
       "Validation: 0it [00:00, ?it/s]"
      ]
     },
     "metadata": {},
     "output_type": "display_data"
    },
    {
     "data": {
      "application/vnd.jupyter.widget-view+json": {
       "model_id": "",
       "version_major": 2,
       "version_minor": 0
      },
      "text/plain": [
       "Validation: 0it [00:00, ?it/s]"
      ]
     },
     "metadata": {},
     "output_type": "display_data"
    },
    {
     "data": {
      "application/vnd.jupyter.widget-view+json": {
       "model_id": "",
       "version_major": 2,
       "version_minor": 0
      },
      "text/plain": [
       "Validation: 0it [00:00, ?it/s]"
      ]
     },
     "metadata": {},
     "output_type": "display_data"
    },
    {
     "data": {
      "application/vnd.jupyter.widget-view+json": {
       "model_id": "",
       "version_major": 2,
       "version_minor": 0
      },
      "text/plain": [
       "Validation: 0it [00:00, ?it/s]"
      ]
     },
     "metadata": {},
     "output_type": "display_data"
    },
    {
     "data": {
      "application/vnd.jupyter.widget-view+json": {
       "model_id": "",
       "version_major": 2,
       "version_minor": 0
      },
      "text/plain": [
       "Validation: 0it [00:00, ?it/s]"
      ]
     },
     "metadata": {},
     "output_type": "display_data"
    },
    {
     "data": {
      "application/vnd.jupyter.widget-view+json": {
       "model_id": "",
       "version_major": 2,
       "version_minor": 0
      },
      "text/plain": [
       "Validation: 0it [00:00, ?it/s]"
      ]
     },
     "metadata": {},
     "output_type": "display_data"
    },
    {
     "data": {
      "application/vnd.jupyter.widget-view+json": {
       "model_id": "",
       "version_major": 2,
       "version_minor": 0
      },
      "text/plain": [
       "Validation: 0it [00:00, ?it/s]"
      ]
     },
     "metadata": {},
     "output_type": "display_data"
    },
    {
     "data": {
      "application/vnd.jupyter.widget-view+json": {
       "model_id": "",
       "version_major": 2,
       "version_minor": 0
      },
      "text/plain": [
       "Validation: 0it [00:00, ?it/s]"
      ]
     },
     "metadata": {},
     "output_type": "display_data"
    },
    {
     "data": {
      "application/vnd.jupyter.widget-view+json": {
       "model_id": "",
       "version_major": 2,
       "version_minor": 0
      },
      "text/plain": [
       "Validation: 0it [00:00, ?it/s]"
      ]
     },
     "metadata": {},
     "output_type": "display_data"
    },
    {
     "data": {
      "application/vnd.jupyter.widget-view+json": {
       "model_id": "",
       "version_major": 2,
       "version_minor": 0
      },
      "text/plain": [
       "Validation: 0it [00:00, ?it/s]"
      ]
     },
     "metadata": {},
     "output_type": "display_data"
    },
    {
     "data": {
      "application/vnd.jupyter.widget-view+json": {
       "model_id": "",
       "version_major": 2,
       "version_minor": 0
      },
      "text/plain": [
       "Validation: 0it [00:00, ?it/s]"
      ]
     },
     "metadata": {},
     "output_type": "display_data"
    },
    {
     "data": {
      "application/vnd.jupyter.widget-view+json": {
       "model_id": "",
       "version_major": 2,
       "version_minor": 0
      },
      "text/plain": [
       "Validation: 0it [00:00, ?it/s]"
      ]
     },
     "metadata": {},
     "output_type": "display_data"
    },
    {
     "data": {
      "application/vnd.jupyter.widget-view+json": {
       "model_id": "",
       "version_major": 2,
       "version_minor": 0
      },
      "text/plain": [
       "Validation: 0it [00:00, ?it/s]"
      ]
     },
     "metadata": {},
     "output_type": "display_data"
    },
    {
     "data": {
      "application/vnd.jupyter.widget-view+json": {
       "model_id": "",
       "version_major": 2,
       "version_minor": 0
      },
      "text/plain": [
       "Validation: 0it [00:00, ?it/s]"
      ]
     },
     "metadata": {},
     "output_type": "display_data"
    },
    {
     "data": {
      "application/vnd.jupyter.widget-view+json": {
       "model_id": "",
       "version_major": 2,
       "version_minor": 0
      },
      "text/plain": [
       "Validation: 0it [00:00, ?it/s]"
      ]
     },
     "metadata": {},
     "output_type": "display_data"
    },
    {
     "data": {
      "application/vnd.jupyter.widget-view+json": {
       "model_id": "",
       "version_major": 2,
       "version_minor": 0
      },
      "text/plain": [
       "Validation: 0it [00:00, ?it/s]"
      ]
     },
     "metadata": {},
     "output_type": "display_data"
    },
    {
     "data": {
      "application/vnd.jupyter.widget-view+json": {
       "model_id": "",
       "version_major": 2,
       "version_minor": 0
      },
      "text/plain": [
       "Validation: 0it [00:00, ?it/s]"
      ]
     },
     "metadata": {},
     "output_type": "display_data"
    },
    {
     "data": {
      "application/vnd.jupyter.widget-view+json": {
       "model_id": "",
       "version_major": 2,
       "version_minor": 0
      },
      "text/plain": [
       "Validation: 0it [00:00, ?it/s]"
      ]
     },
     "metadata": {},
     "output_type": "display_data"
    },
    {
     "data": {
      "application/vnd.jupyter.widget-view+json": {
       "model_id": "",
       "version_major": 2,
       "version_minor": 0
      },
      "text/plain": [
       "Validation: 0it [00:00, ?it/s]"
      ]
     },
     "metadata": {},
     "output_type": "display_data"
    },
    {
     "data": {
      "application/vnd.jupyter.widget-view+json": {
       "model_id": "",
       "version_major": 2,
       "version_minor": 0
      },
      "text/plain": [
       "Validation: 0it [00:00, ?it/s]"
      ]
     },
     "metadata": {},
     "output_type": "display_data"
    },
    {
     "data": {
      "application/vnd.jupyter.widget-view+json": {
       "model_id": "",
       "version_major": 2,
       "version_minor": 0
      },
      "text/plain": [
       "Validation: 0it [00:00, ?it/s]"
      ]
     },
     "metadata": {},
     "output_type": "display_data"
    },
    {
     "data": {
      "application/vnd.jupyter.widget-view+json": {
       "model_id": "",
       "version_major": 2,
       "version_minor": 0
      },
      "text/plain": [
       "Validation: 0it [00:00, ?it/s]"
      ]
     },
     "metadata": {},
     "output_type": "display_data"
    },
    {
     "data": {
      "application/vnd.jupyter.widget-view+json": {
       "model_id": "",
       "version_major": 2,
       "version_minor": 0
      },
      "text/plain": [
       "Validation: 0it [00:00, ?it/s]"
      ]
     },
     "metadata": {},
     "output_type": "display_data"
    },
    {
     "data": {
      "application/vnd.jupyter.widget-view+json": {
       "model_id": "",
       "version_major": 2,
       "version_minor": 0
      },
      "text/plain": [
       "Validation: 0it [00:00, ?it/s]"
      ]
     },
     "metadata": {},
     "output_type": "display_data"
    },
    {
     "data": {
      "application/vnd.jupyter.widget-view+json": {
       "model_id": "",
       "version_major": 2,
       "version_minor": 0
      },
      "text/plain": [
       "Validation: 0it [00:00, ?it/s]"
      ]
     },
     "metadata": {},
     "output_type": "display_data"
    },
    {
     "data": {
      "application/vnd.jupyter.widget-view+json": {
       "model_id": "",
       "version_major": 2,
       "version_minor": 0
      },
      "text/plain": [
       "Validation: 0it [00:00, ?it/s]"
      ]
     },
     "metadata": {},
     "output_type": "display_data"
    },
    {
     "data": {
      "application/vnd.jupyter.widget-view+json": {
       "model_id": "",
       "version_major": 2,
       "version_minor": 0
      },
      "text/plain": [
       "Validation: 0it [00:00, ?it/s]"
      ]
     },
     "metadata": {},
     "output_type": "display_data"
    },
    {
     "data": {
      "application/vnd.jupyter.widget-view+json": {
       "model_id": "",
       "version_major": 2,
       "version_minor": 0
      },
      "text/plain": [
       "Validation: 0it [00:00, ?it/s]"
      ]
     },
     "metadata": {},
     "output_type": "display_data"
    },
    {
     "data": {
      "application/vnd.jupyter.widget-view+json": {
       "model_id": "",
       "version_major": 2,
       "version_minor": 0
      },
      "text/plain": [
       "Validation: 0it [00:00, ?it/s]"
      ]
     },
     "metadata": {},
     "output_type": "display_data"
    },
    {
     "data": {
      "application/vnd.jupyter.widget-view+json": {
       "model_id": "",
       "version_major": 2,
       "version_minor": 0
      },
      "text/plain": [
       "Validation: 0it [00:00, ?it/s]"
      ]
     },
     "metadata": {},
     "output_type": "display_data"
    },
    {
     "data": {
      "application/vnd.jupyter.widget-view+json": {
       "model_id": "",
       "version_major": 2,
       "version_minor": 0
      },
      "text/plain": [
       "Validation: 0it [00:00, ?it/s]"
      ]
     },
     "metadata": {},
     "output_type": "display_data"
    },
    {
     "data": {
      "application/vnd.jupyter.widget-view+json": {
       "model_id": "",
       "version_major": 2,
       "version_minor": 0
      },
      "text/plain": [
       "Validation: 0it [00:00, ?it/s]"
      ]
     },
     "metadata": {},
     "output_type": "display_data"
    },
    {
     "name": "stderr",
     "output_type": "stream",
     "text": [
      "`Trainer.fit` stopped: `max_epochs=40` reached.\n"
     ]
    }
   ],
   "source": [
    "treinador.fit(mlp_best_trial, dm)"
   ]
  },
  {
   "cell_type": "code",
   "execution_count": 26,
   "id": "2f766437-ceec-482c-b1ea-e83ead1fab7c",
   "metadata": {},
   "outputs": [
    {
     "name": "stdout",
     "output_type": "stream",
     "text": [
      "0.03346411851213773\n"
     ]
    }
   ],
   "source": [
    "mlp_best_trial.eval()\n",
    "dm.setup(\"test\")\n",
    "\n",
    "with torch.no_grad():\n",
    "    X_true = dm.X_teste\n",
    "\n",
    "    y_true = dm.y_teste\n",
    "    y_true = dm.y_scaler.inverse_transform(y_true)\n",
    "\n",
    "    y_pred = mlp_best_trial(X_true)\n",
    "    y_pred = dm.y_scaler.inverse_transform(y_pred)\n",
    "    \n",
    "    RMSE = mean_squared_error(y_true, y_pred, squared = False)\n",
    "\n",
    "    print(RMSE)"
   ]
  },
  {
   "cell_type": "code",
   "execution_count": 27,
   "id": "875110eb-d4e6-45c0-a07e-7998ccb15260",
   "metadata": {},
   "outputs": [
    {
     "data": {
      "image/png": "[encoded data removed]",
      "text/plain": [
       "<Figure size 640x480 with 1 Axes>"
      ]
     },
     "metadata": {},
     "output_type": "display_data"
    }
   ],
   "source": [
    "figura, eixo = plt.subplots()\n",
    "\n",
    "ca_treino = mlp_best_trial.curva_aprendizado_treino\n",
    "ca_val = mlp_best_trial.curva_aprendizado_val\n",
    "\n",
    "eixo.plot(ca_treino, label=\"Treino\")\n",
    "eixo.plot(ca_val, label=\"Validação\")\n",
    "\n",
    "eixo.legend()\n",
    "\n",
    "eixo.set_xlim(left=0)\n",
    "\n",
    "eixo.set_title(\"Curva de aprendizado\")\n",
    "eixo.set_xlabel(\"Época\")\n",
    "eixo.set_ylabel(\"Loss\");"
   ]
  },
  {
   "cell_type": "code",
   "execution_count": 28,
   "id": "99aaca9c-c2ee-4bfa-be47-c6b7b17b6fb8",
   "metadata": {},
   "outputs": [
    {
     "data": {
      "text/plain": [
       "<matplotlib.collections.PathCollection at 0x19d35feca60>"
      ]
     },
     "execution_count": 28,
     "metadata": {},
     "output_type": "execute_result"
    },
    {
     "data": {
      "image/png": "[encoded data removed]",
      "text/plain": [
       "<Figure size 640x480 with 1 Axes>"
      ]
     },
     "metadata": {},
     "output_type": "display_data"
    }
   ],
   "source": [
    "plt.scatter(y_pred, y_true)"
   ]
  },
  {
   "cell_type": "code",
   "execution_count": 29,
   "id": "1f27d800-b65c-48ee-b4f9-565557152003",
   "metadata": {},
   "outputs": [
    {
     "data": {
      "text/html": [
       "<div>\n",
       "<style scoped>\n",
       "    .dataframe tbody tr th:only-of-type {\n",
       "        vertical-align: middle;\n",
       "    }\n",
       "\n",
       "    .dataframe tbody tr th {\n",
       "        vertical-align: top;\n",
       "    }\n",
       "\n",
       "    .dataframe thead th {\n",
       "        text-align: right;\n",
       "    }\n",
       "</style>\n",
       "<table border=\"1\" class=\"dataframe\">\n",
       "  <thead>\n",
       "    <tr style=\"text-align: right;\">\n",
       "      <th></th>\n",
       "      <th>Real</th>\n",
       "      <th>Previsto</th>\n",
       "    </tr>\n",
       "  </thead>\n",
       "  <tbody>\n",
       "    <tr>\n",
       "      <th>0</th>\n",
       "      <td>[0.563]</td>\n",
       "      <td>[0.59245654]</td>\n",
       "    </tr>\n",
       "    <tr>\n",
       "      <th>1</th>\n",
       "      <td>[0.60899998]</td>\n",
       "      <td>[0.62039561]</td>\n",
       "    </tr>\n",
       "    <tr>\n",
       "      <th>2</th>\n",
       "      <td>[0.60899998]</td>\n",
       "      <td>[0.59999668]</td>\n",
       "    </tr>\n",
       "    <tr>\n",
       "      <th>3</th>\n",
       "      <td>[0.56999998]</td>\n",
       "      <td>[0.55867046]</td>\n",
       "    </tr>\n",
       "    <tr>\n",
       "      <th>4</th>\n",
       "      <td>[0.606]</td>\n",
       "      <td>[0.57353627]</td>\n",
       "    </tr>\n",
       "    <tr>\n",
       "      <th>5</th>\n",
       "      <td>[0.50300001]</td>\n",
       "      <td>[0.55854137]</td>\n",
       "    </tr>\n",
       "    <tr>\n",
       "      <th>6</th>\n",
       "      <td>[0.53899999]</td>\n",
       "      <td>[0.59257882]</td>\n",
       "    </tr>\n",
       "    <tr>\n",
       "      <th>7</th>\n",
       "      <td>[0.58500001]</td>\n",
       "      <td>[0.57182025]</td>\n",
       "    </tr>\n",
       "    <tr>\n",
       "      <th>8</th>\n",
       "      <td>[0.62699999]</td>\n",
       "      <td>[0.59796875]</td>\n",
       "    </tr>\n",
       "    <tr>\n",
       "      <th>9</th>\n",
       "      <td>[0.561]</td>\n",
       "      <td>[0.58924348]</td>\n",
       "    </tr>\n",
       "    <tr>\n",
       "      <th>10</th>\n",
       "      <td>[0.60699998]</td>\n",
       "      <td>[0.60578537]</td>\n",
       "    </tr>\n",
       "    <tr>\n",
       "      <th>11</th>\n",
       "      <td>[0.58500001]</td>\n",
       "      <td>[0.5655393]</td>\n",
       "    </tr>\n",
       "    <tr>\n",
       "      <th>12</th>\n",
       "      <td>[0.6]</td>\n",
       "      <td>[0.60629952]</td>\n",
       "    </tr>\n",
       "    <tr>\n",
       "      <th>13</th>\n",
       "      <td>[0.606]</td>\n",
       "      <td>[0.56303527]</td>\n",
       "    </tr>\n",
       "    <tr>\n",
       "      <th>14</th>\n",
       "      <td>[0.57700001]</td>\n",
       "      <td>[0.59321059]</td>\n",
       "    </tr>\n",
       "    <tr>\n",
       "      <th>15</th>\n",
       "      <td>[0.555]</td>\n",
       "      <td>[0.58781107]</td>\n",
       "    </tr>\n",
       "    <tr>\n",
       "      <th>16</th>\n",
       "      <td>[0.604]</td>\n",
       "      <td>[0.59468811]</td>\n",
       "    </tr>\n",
       "    <tr>\n",
       "      <th>17</th>\n",
       "      <td>[0.561]</td>\n",
       "      <td>[0.55441965]</td>\n",
       "    </tr>\n",
       "    <tr>\n",
       "      <th>18</th>\n",
       "      <td>[0.62099999]</td>\n",
       "      <td>[0.55373613]</td>\n",
       "    </tr>\n",
       "    <tr>\n",
       "      <th>19</th>\n",
       "      <td>[0.62600001]</td>\n",
       "      <td>[0.61669932]</td>\n",
       "    </tr>\n",
       "    <tr>\n",
       "      <th>20</th>\n",
       "      <td>[0.54600001]</td>\n",
       "      <td>[0.53400349]</td>\n",
       "    </tr>\n",
       "    <tr>\n",
       "      <th>21</th>\n",
       "      <td>[0.54699999]</td>\n",
       "      <td>[0.56800011]</td>\n",
       "    </tr>\n",
       "    <tr>\n",
       "      <th>22</th>\n",
       "      <td>[0.55400002]</td>\n",
       "      <td>[0.5672536]</td>\n",
       "    </tr>\n",
       "    <tr>\n",
       "      <th>23</th>\n",
       "      <td>[0.688]</td>\n",
       "      <td>[0.57034896]</td>\n",
       "    </tr>\n",
       "    <tr>\n",
       "      <th>24</th>\n",
       "      <td>[0.57399999]</td>\n",
       "      <td>[0.61474381]</td>\n",
       "    </tr>\n",
       "    <tr>\n",
       "      <th>25</th>\n",
       "      <td>[0.59900002]</td>\n",
       "      <td>[0.59336019]</td>\n",
       "    </tr>\n",
       "    <tr>\n",
       "      <th>26</th>\n",
       "      <td>[0.63200001]</td>\n",
       "      <td>[0.57304647]</td>\n",
       "    </tr>\n",
       "    <tr>\n",
       "      <th>27</th>\n",
       "      <td>[0.59900002]</td>\n",
       "      <td>[0.58843825]</td>\n",
       "    </tr>\n",
       "    <tr>\n",
       "      <th>28</th>\n",
       "      <td>[0.57199999]</td>\n",
       "      <td>[0.56462753]</td>\n",
       "    </tr>\n",
       "    <tr>\n",
       "      <th>29</th>\n",
       "      <td>[0.53400001]</td>\n",
       "      <td>[0.58269434]</td>\n",
       "    </tr>\n",
       "    <tr>\n",
       "      <th>30</th>\n",
       "      <td>[0.61899999]</td>\n",
       "      <td>[0.5850035]</td>\n",
       "    </tr>\n",
       "    <tr>\n",
       "      <th>31</th>\n",
       "      <td>[0.57199999]</td>\n",
       "      <td>[0.58866363]</td>\n",
       "    </tr>\n",
       "    <tr>\n",
       "      <th>32</th>\n",
       "      <td>[0.61699999]</td>\n",
       "      <td>[0.56208397]</td>\n",
       "    </tr>\n",
       "    <tr>\n",
       "      <th>33</th>\n",
       "      <td>[0.563]</td>\n",
       "      <td>[0.56554947]</td>\n",
       "    </tr>\n",
       "    <tr>\n",
       "      <th>34</th>\n",
       "      <td>[0.61099998]</td>\n",
       "      <td>[0.58624571]</td>\n",
       "    </tr>\n",
       "    <tr>\n",
       "      <th>35</th>\n",
       "      <td>[0.62800001]</td>\n",
       "      <td>[0.60579939]</td>\n",
       "    </tr>\n",
       "    <tr>\n",
       "      <th>36</th>\n",
       "      <td>[0.59300002]</td>\n",
       "      <td>[0.56550075]</td>\n",
       "    </tr>\n",
       "    <tr>\n",
       "      <th>37</th>\n",
       "      <td>[0.57799999]</td>\n",
       "      <td>[0.57867719]</td>\n",
       "    </tr>\n",
       "    <tr>\n",
       "      <th>38</th>\n",
       "      <td>[0.62000001]</td>\n",
       "      <td>[0.6043833]</td>\n",
       "    </tr>\n",
       "    <tr>\n",
       "      <th>39</th>\n",
       "      <td>[0.6]</td>\n",
       "      <td>[0.61126477]</td>\n",
       "    </tr>\n",
       "    <tr>\n",
       "      <th>40</th>\n",
       "      <td>[0.61]</td>\n",
       "      <td>[0.60024076]</td>\n",
       "    </tr>\n",
       "    <tr>\n",
       "      <th>41</th>\n",
       "      <td>[0.596]</td>\n",
       "      <td>[0.56341755]</td>\n",
       "    </tr>\n",
       "    <tr>\n",
       "      <th>42</th>\n",
       "      <td>[0.51]</td>\n",
       "      <td>[0.56857906]</td>\n",
       "    </tr>\n",
       "    <tr>\n",
       "      <th>43</th>\n",
       "      <td>[0.61499999]</td>\n",
       "      <td>[0.60208956]</td>\n",
       "    </tr>\n",
       "    <tr>\n",
       "      <th>44</th>\n",
       "      <td>[0.61299998]</td>\n",
       "      <td>[0.60209005]</td>\n",
       "    </tr>\n",
       "    <tr>\n",
       "      <th>45</th>\n",
       "      <td>[0.38999998]</td>\n",
       "      <td>[0.43082098]</td>\n",
       "    </tr>\n",
       "    <tr>\n",
       "      <th>46</th>\n",
       "      <td>[0.57100001]</td>\n",
       "      <td>[0.56327902]</td>\n",
       "    </tr>\n",
       "    <tr>\n",
       "      <th>47</th>\n",
       "      <td>[0.553]</td>\n",
       "      <td>[0.57616021]</td>\n",
       "    </tr>\n",
       "    <tr>\n",
       "      <th>48</th>\n",
       "      <td>[0.57300001]</td>\n",
       "      <td>[0.54684031]</td>\n",
       "    </tr>\n",
       "    <tr>\n",
       "      <th>49</th>\n",
       "      <td>[0.62000001]</td>\n",
       "      <td>[0.58776129]</td>\n",
       "    </tr>\n",
       "    <tr>\n",
       "      <th>50</th>\n",
       "      <td>[0.62800001]</td>\n",
       "      <td>[0.57303039]</td>\n",
       "    </tr>\n",
       "    <tr>\n",
       "      <th>51</th>\n",
       "      <td>[0.58700001]</td>\n",
       "      <td>[0.59275713]</td>\n",
       "    </tr>\n",
       "    <tr>\n",
       "      <th>52</th>\n",
       "      <td>[0.55200002]</td>\n",
       "      <td>[0.57657512]</td>\n",
       "    </tr>\n",
       "    <tr>\n",
       "      <th>53</th>\n",
       "      <td>[0.506]</td>\n",
       "      <td>[0.55288349]</td>\n",
       "    </tr>\n",
       "    <tr>\n",
       "      <th>54</th>\n",
       "      <td>[0.65599998]</td>\n",
       "      <td>[0.60712944]</td>\n",
       "    </tr>\n",
       "    <tr>\n",
       "      <th>55</th>\n",
       "      <td>[0.58100001]</td>\n",
       "      <td>[0.56551642]</td>\n",
       "    </tr>\n",
       "    <tr>\n",
       "      <th>56</th>\n",
       "      <td>[0.59300002]</td>\n",
       "      <td>[0.5653295]</td>\n",
       "    </tr>\n",
       "    <tr>\n",
       "      <th>57</th>\n",
       "      <td>[0.57999999]</td>\n",
       "      <td>[0.60064231]</td>\n",
       "    </tr>\n",
       "    <tr>\n",
       "      <th>58</th>\n",
       "      <td>[0.604]</td>\n",
       "      <td>[0.59127444]</td>\n",
       "    </tr>\n",
       "  </tbody>\n",
       "</table>\n",
       "</div>"
      ],
      "text/plain": [
       "            Real      Previsto\n",
       "0        [0.563]  [0.59245654]\n",
       "1   [0.60899998]  [0.62039561]\n",
       "2   [0.60899998]  [0.59999668]\n",
       "3   [0.56999998]  [0.55867046]\n",
       "4        [0.606]  [0.57353627]\n",
       "5   [0.50300001]  [0.55854137]\n",
       "6   [0.53899999]  [0.59257882]\n",
       "7   [0.58500001]  [0.57182025]\n",
       "8   [0.62699999]  [0.59796875]\n",
       "9        [0.561]  [0.58924348]\n",
       "10  [0.60699998]  [0.60578537]\n",
       "11  [0.58500001]   [0.5655393]\n",
       "12         [0.6]  [0.60629952]\n",
       "13       [0.606]  [0.56303527]\n",
       "14  [0.57700001]  [0.59321059]\n",
       "15       [0.555]  [0.58781107]\n",
       "16       [0.604]  [0.59468811]\n",
       "17       [0.561]  [0.55441965]\n",
       "18  [0.62099999]  [0.55373613]\n",
       "19  [0.62600001]  [0.61669932]\n",
       "20  [0.54600001]  [0.53400349]\n",
       "21  [0.54699999]  [0.56800011]\n",
       "22  [0.55400002]   [0.5672536]\n",
       "23       [0.688]  [0.57034896]\n",
       "24  [0.57399999]  [0.61474381]\n",
       "25  [0.59900002]  [0.59336019]\n",
       "26  [0.63200001]  [0.57304647]\n",
       "27  [0.59900002]  [0.58843825]\n",
       "28  [0.57199999]  [0.56462753]\n",
       "29  [0.53400001]  [0.58269434]\n",
       "30  [0.61899999]   [0.5850035]\n",
       "31  [0.57199999]  [0.58866363]\n",
       "32  [0.61699999]  [0.56208397]\n",
       "33       [0.563]  [0.56554947]\n",
       "34  [0.61099998]  [0.58624571]\n",
       "35  [0.62800001]  [0.60579939]\n",
       "36  [0.59300002]  [0.56550075]\n",
       "37  [0.57799999]  [0.57867719]\n",
       "38  [0.62000001]   [0.6043833]\n",
       "39         [0.6]  [0.61126477]\n",
       "40        [0.61]  [0.60024076]\n",
       "41       [0.596]  [0.56341755]\n",
       "42        [0.51]  [0.56857906]\n",
       "43  [0.61499999]  [0.60208956]\n",
       "44  [0.61299998]  [0.60209005]\n",
       "45  [0.38999998]  [0.43082098]\n",
       "46  [0.57100001]  [0.56327902]\n",
       "47       [0.553]  [0.57616021]\n",
       "48  [0.57300001]  [0.54684031]\n",
       "49  [0.62000001]  [0.58776129]\n",
       "50  [0.62800001]  [0.57303039]\n",
       "51  [0.58700001]  [0.59275713]\n",
       "52  [0.55200002]  [0.57657512]\n",
       "53       [0.506]  [0.55288349]\n",
       "54  [0.65599998]  [0.60712944]\n",
       "55  [0.58100001]  [0.56551642]\n",
       "56  [0.59300002]   [0.5653295]\n",
       "57  [0.57999999]  [0.60064231]\n",
       "58       [0.604]  [0.59127444]"
      ]
     },
     "execution_count": 29,
     "metadata": {},
     "output_type": "execute_result"
    }
   ],
   "source": [
    "import csv\n",
    "\n",
    "# Arrays de exemplo\n",
    "array1 = y_true\n",
    "array2 = y_pred\n",
    "\n",
    "# Nome do arquivo CSV\n",
    "filename = 'output.csv'\n",
    "\n",
    "# Criar e escrever no arquivo CSV\n",
    "with open(filename, mode='w', newline='') as file:\n",
    "    writer = csv.writer(file)\n",
    "    \n",
    "    # Escrever cabeçalhos (opcional)\n",
    "    writer.writerow(['Real', 'Previsto'])\n",
    "    \n",
    "    # Escrever os dados\n",
    "    for a1, a2 in zip(array1, array2):\n",
    "        writer.writerow([a1, a2])\n",
    "\n",
    "mostra = pd.read_csv('output.csv')\n",
    "mostra"
   ]
  },
  {
   "cell_type": "markdown",
   "id": "5708c38e-67e8-436b-b9ad-45fb4a3c25a8",
   "metadata": {},
   "source": [
    "### MLP - trial with fewer parameters"
   ]
  },
  {
   "cell_type": "code",
   "execution_count": 8,
   "id": "91e04d17-cd40-40a2-ae83-f6a67668220a",
   "metadata": {},
   "outputs": [],
   "source": [
    "num_dados_de_entrada = 20\n",
    "num_targets = 1\n",
    "num_camadas = 2\n",
    "num_neuronios = 4\n",
    "ativacao = nn.ReLU()\n",
    "lr = 0.01\n",
    "taxa_dropout = 0.05\n",
    "\n",
    "mlp_fewer = MLP(\n",
    "    num_dados_de_entrada, num_camadas, num_neuronios, ativacao, taxa_dropout, num_targets, lr\n",
    ")"
   ]
  },
  {
   "cell_type": "code",
   "execution_count": 9,
   "id": "f04b67ac-352d-4278-9392-d31c6541225f",
   "metadata": {},
   "outputs": [
    {
     "name": "stderr",
     "output_type": "stream",
     "text": [
      "\n",
      "  | Name    | Type       | Params\n",
      "---------------------------------------\n",
      "0 | camadas | Sequential | 109   \n",
      "---------------------------------------\n",
      "109       Trainable params\n",
      "0         Non-trainable params\n",
      "109       Total params\n",
      "0.000     Total estimated model params size (MB)\n"
     ]
    },
    {
     "data": {
      "application/vnd.jupyter.widget-view+json": {
       "model_id": "",
       "version_major": 2,
       "version_minor": 0
      },
      "text/plain": [
       "Sanity Checking: 0it [00:00, ?it/s]"
      ]
     },
     "metadata": {},
     "output_type": "display_data"
    },
    {
     "name": "stderr",
     "output_type": "stream",
     "text": [
      "c:\\venv\\ilumpy\\lib\\site-packages\\pytorch_lightning\\trainer\\trainer.py:1558: PossibleUserWarning: The number of training batches (8) is smaller than the logging interval Trainer(log_every_n_steps=50). Set a lower value for log_every_n_steps if you want to see logs for the training epoch.\n",
      "  rank_zero_warn(\n"
     ]
    },
    {
     "data": {
      "application/vnd.jupyter.widget-view+json": {
       "model_id": "585708b86b224193b7198a6911f31834",
       "version_major": 2,
       "version_minor": 0
      },
      "text/plain": [
       "Training: 0it [00:00, ?it/s]"
      ]
     },
     "metadata": {},
     "output_type": "display_data"
    },
    {
     "name": "stderr",
     "output_type": "stream",
     "text": [
      "c:\\venv\\ilumpy\\lib\\site-packages\\pytorch_lightning\\callbacks\\progress\\base.py:249: UserWarning: The progress bar already tracks a metric with the name(s) 'loss' and `self.log('loss', ..., prog_bar=True)` will overwrite this value.  If this is undesired, change the name or override `get_metrics()` in the progress bar callback.\n",
      "  rank_zero_warn(\n"
     ]
    },
    {
     "data": {
      "application/vnd.jupyter.widget-view+json": {
       "model_id": "",
       "version_major": 2,
       "version_minor": 0
      },
      "text/plain": [
       "Validation: 0it [00:00, ?it/s]"
      ]
     },
     "metadata": {},
     "output_type": "display_data"
    },
    {
     "data": {
      "application/vnd.jupyter.widget-view+json": {
       "model_id": "",
       "version_major": 2,
       "version_minor": 0
      },
      "text/plain": [
       "Validation: 0it [00:00, ?it/s]"
      ]
     },
     "metadata": {},
     "output_type": "display_data"
    },
    {
     "data": {
      "application/vnd.jupyter.widget-view+json": {
       "model_id": "",
       "version_major": 2,
       "version_minor": 0
      },
      "text/plain": [
       "Validation: 0it [00:00, ?it/s]"
      ]
     },
     "metadata": {},
     "output_type": "display_data"
    },
    {
     "data": {
      "application/vnd.jupyter.widget-view+json": {
       "model_id": "",
       "version_major": 2,
       "version_minor": 0
      },
      "text/plain": [
       "Validation: 0it [00:00, ?it/s]"
      ]
     },
     "metadata": {},
     "output_type": "display_data"
    },
    {
     "data": {
      "application/vnd.jupyter.widget-view+json": {
       "model_id": "",
       "version_major": 2,
       "version_minor": 0
      },
      "text/plain": [
       "Validation: 0it [00:00, ?it/s]"
      ]
     },
     "metadata": {},
     "output_type": "display_data"
    },
    {
     "data": {
      "application/vnd.jupyter.widget-view+json": {
       "model_id": "",
       "version_major": 2,
       "version_minor": 0
      },
      "text/plain": [
       "Validation: 0it [00:00, ?it/s]"
      ]
     },
     "metadata": {},
     "output_type": "display_data"
    },
    {
     "data": {
      "application/vnd.jupyter.widget-view+json": {
       "model_id": "",
       "version_major": 2,
       "version_minor": 0
      },
      "text/plain": [
       "Validation: 0it [00:00, ?it/s]"
      ]
     },
     "metadata": {},
     "output_type": "display_data"
    },
    {
     "data": {
      "application/vnd.jupyter.widget-view+json": {
       "model_id": "",
       "version_major": 2,
       "version_minor": 0
      },
      "text/plain": [
       "Validation: 0it [00:00, ?it/s]"
      ]
     },
     "metadata": {},
     "output_type": "display_data"
    },
    {
     "data": {
      "application/vnd.jupyter.widget-view+json": {
       "model_id": "",
       "version_major": 2,
       "version_minor": 0
      },
      "text/plain": [
       "Validation: 0it [00:00, ?it/s]"
      ]
     },
     "metadata": {},
     "output_type": "display_data"
    },
    {
     "data": {
      "application/vnd.jupyter.widget-view+json": {
       "model_id": "",
       "version_major": 2,
       "version_minor": 0
      },
      "text/plain": [
       "Validation: 0it [00:00, ?it/s]"
      ]
     },
     "metadata": {},
     "output_type": "display_data"
    },
    {
     "data": {
      "application/vnd.jupyter.widget-view+json": {
       "model_id": "",
       "version_major": 2,
       "version_minor": 0
      },
      "text/plain": [
       "Validation: 0it [00:00, ?it/s]"
      ]
     },
     "metadata": {},
     "output_type": "display_data"
    },
    {
     "data": {
      "application/vnd.jupyter.widget-view+json": {
       "model_id": "",
       "version_major": 2,
       "version_minor": 0
      },
      "text/plain": [
       "Validation: 0it [00:00, ?it/s]"
      ]
     },
     "metadata": {},
     "output_type": "display_data"
    },
    {
     "data": {
      "application/vnd.jupyter.widget-view+json": {
       "model_id": "",
       "version_major": 2,
       "version_minor": 0
      },
      "text/plain": [
       "Validation: 0it [00:00, ?it/s]"
      ]
     },
     "metadata": {},
     "output_type": "display_data"
    },
    {
     "data": {
      "application/vnd.jupyter.widget-view+json": {
       "model_id": "",
       "version_major": 2,
       "version_minor": 0
      },
      "text/plain": [
       "Validation: 0it [00:00, ?it/s]"
      ]
     },
     "metadata": {},
     "output_type": "display_data"
    },
    {
     "data": {
      "application/vnd.jupyter.widget-view+json": {
       "model_id": "",
       "version_major": 2,
       "version_minor": 0
      },
      "text/plain": [
       "Validation: 0it [00:00, ?it/s]"
      ]
     },
     "metadata": {},
     "output_type": "display_data"
    },
    {
     "data": {
      "application/vnd.jupyter.widget-view+json": {
       "model_id": "",
       "version_major": 2,
       "version_minor": 0
      },
      "text/plain": [
       "Validation: 0it [00:00, ?it/s]"
      ]
     },
     "metadata": {},
     "output_type": "display_data"
    },
    {
     "data": {
      "application/vnd.jupyter.widget-view+json": {
       "model_id": "",
       "version_major": 2,
       "version_minor": 0
      },
      "text/plain": [
       "Validation: 0it [00:00, ?it/s]"
      ]
     },
     "metadata": {},
     "output_type": "display_data"
    },
    {
     "data": {
      "application/vnd.jupyter.widget-view+json": {
       "model_id": "",
       "version_major": 2,
       "version_minor": 0
      },
      "text/plain": [
       "Validation: 0it [00:00, ?it/s]"
      ]
     },
     "metadata": {},
     "output_type": "display_data"
    },
    {
     "data": {
      "application/vnd.jupyter.widget-view+json": {
       "model_id": "",
       "version_major": 2,
       "version_minor": 0
      },
      "text/plain": [
       "Validation: 0it [00:00, ?it/s]"
      ]
     },
     "metadata": {},
     "output_type": "display_data"
    },
    {
     "data": {
      "application/vnd.jupyter.widget-view+json": {
       "model_id": "",
       "version_major": 2,
       "version_minor": 0
      },
      "text/plain": [
       "Validation: 0it [00:00, ?it/s]"
      ]
     },
     "metadata": {},
     "output_type": "display_data"
    },
    {
     "data": {
      "application/vnd.jupyter.widget-view+json": {
       "model_id": "",
       "version_major": 2,
       "version_minor": 0
      },
      "text/plain": [
       "Validation: 0it [00:00, ?it/s]"
      ]
     },
     "metadata": {},
     "output_type": "display_data"
    },
    {
     "data": {
      "application/vnd.jupyter.widget-view+json": {
       "model_id": "",
       "version_major": 2,
       "version_minor": 0
      },
      "text/plain": [
       "Validation: 0it [00:00, ?it/s]"
      ]
     },
     "metadata": {},
     "output_type": "display_data"
    },
    {
     "data": {
      "application/vnd.jupyter.widget-view+json": {
       "model_id": "",
       "version_major": 2,
       "version_minor": 0
      },
      "text/plain": [
       "Validation: 0it [00:00, ?it/s]"
      ]
     },
     "metadata": {},
     "output_type": "display_data"
    },
    {
     "data": {
      "application/vnd.jupyter.widget-view+json": {
       "model_id": "",
       "version_major": 2,
       "version_minor": 0
      },
      "text/plain": [
       "Validation: 0it [00:00, ?it/s]"
      ]
     },
     "metadata": {},
     "output_type": "display_data"
    },
    {
     "data": {
      "application/vnd.jupyter.widget-view+json": {
       "model_id": "",
       "version_major": 2,
       "version_minor": 0
      },
      "text/plain": [
       "Validation: 0it [00:00, ?it/s]"
      ]
     },
     "metadata": {},
     "output_type": "display_data"
    },
    {
     "data": {
      "application/vnd.jupyter.widget-view+json": {
       "model_id": "",
       "version_major": 2,
       "version_minor": 0
      },
      "text/plain": [
       "Validation: 0it [00:00, ?it/s]"
      ]
     },
     "metadata": {},
     "output_type": "display_data"
    },
    {
     "data": {
      "application/vnd.jupyter.widget-view+json": {
       "model_id": "",
       "version_major": 2,
       "version_minor": 0
      },
      "text/plain": [
       "Validation: 0it [00:00, ?it/s]"
      ]
     },
     "metadata": {},
     "output_type": "display_data"
    },
    {
     "data": {
      "application/vnd.jupyter.widget-view+json": {
       "model_id": "",
       "version_major": 2,
       "version_minor": 0
      },
      "text/plain": [
       "Validation: 0it [00:00, ?it/s]"
      ]
     },
     "metadata": {},
     "output_type": "display_data"
    },
    {
     "data": {
      "application/vnd.jupyter.widget-view+json": {
       "model_id": "",
       "version_major": 2,
       "version_minor": 0
      },
      "text/plain": [
       "Validation: 0it [00:00, ?it/s]"
      ]
     },
     "metadata": {},
     "output_type": "display_data"
    },
    {
     "data": {
      "application/vnd.jupyter.widget-view+json": {
       "model_id": "",
       "version_major": 2,
       "version_minor": 0
      },
      "text/plain": [
       "Validation: 0it [00:00, ?it/s]"
      ]
     },
     "metadata": {},
     "output_type": "display_data"
    },
    {
     "data": {
      "application/vnd.jupyter.widget-view+json": {
       "model_id": "",
       "version_major": 2,
       "version_minor": 0
      },
      "text/plain": [
       "Validation: 0it [00:00, ?it/s]"
      ]
     },
     "metadata": {},
     "output_type": "display_data"
    },
    {
     "data": {
      "application/vnd.jupyter.widget-view+json": {
       "model_id": "",
       "version_major": 2,
       "version_minor": 0
      },
      "text/plain": [
       "Validation: 0it [00:00, ?it/s]"
      ]
     },
     "metadata": {},
     "output_type": "display_data"
    },
    {
     "data": {
      "application/vnd.jupyter.widget-view+json": {
       "model_id": "",
       "version_major": 2,
       "version_minor": 0
      },
      "text/plain": [
       "Validation: 0it [00:00, ?it/s]"
      ]
     },
     "metadata": {},
     "output_type": "display_data"
    },
    {
     "data": {
      "application/vnd.jupyter.widget-view+json": {
       "model_id": "",
       "version_major": 2,
       "version_minor": 0
      },
      "text/plain": [
       "Validation: 0it [00:00, ?it/s]"
      ]
     },
     "metadata": {},
     "output_type": "display_data"
    },
    {
     "data": {
      "application/vnd.jupyter.widget-view+json": {
       "model_id": "",
       "version_major": 2,
       "version_minor": 0
      },
      "text/plain": [
       "Validation: 0it [00:00, ?it/s]"
      ]
     },
     "metadata": {},
     "output_type": "display_data"
    },
    {
     "data": {
      "application/vnd.jupyter.widget-view+json": {
       "model_id": "",
       "version_major": 2,
       "version_minor": 0
      },
      "text/plain": [
       "Validation: 0it [00:00, ?it/s]"
      ]
     },
     "metadata": {},
     "output_type": "display_data"
    },
    {
     "data": {
      "application/vnd.jupyter.widget-view+json": {
       "model_id": "",
       "version_major": 2,
       "version_minor": 0
      },
      "text/plain": [
       "Validation: 0it [00:00, ?it/s]"
      ]
     },
     "metadata": {},
     "output_type": "display_data"
    },
    {
     "data": {
      "application/vnd.jupyter.widget-view+json": {
       "model_id": "",
       "version_major": 2,
       "version_minor": 0
      },
      "text/plain": [
       "Validation: 0it [00:00, ?it/s]"
      ]
     },
     "metadata": {},
     "output_type": "display_data"
    },
    {
     "data": {
      "application/vnd.jupyter.widget-view+json": {
       "model_id": "",
       "version_major": 2,
       "version_minor": 0
      },
      "text/plain": [
       "Validation: 0it [00:00, ?it/s]"
      ]
     },
     "metadata": {},
     "output_type": "display_data"
    },
    {
     "data": {
      "application/vnd.jupyter.widget-view+json": {
       "model_id": "",
       "version_major": 2,
       "version_minor": 0
      },
      "text/plain": [
       "Validation: 0it [00:00, ?it/s]"
      ]
     },
     "metadata": {},
     "output_type": "display_data"
    },
    {
     "name": "stderr",
     "output_type": "stream",
     "text": [
      "`Trainer.fit` stopped: `max_epochs=40` reached.\n"
     ]
    }
   ],
   "source": [
    "treinador.fit(mlp_fewer, dm)"
   ]
  },
  {
   "cell_type": "code",
   "execution_count": 10,
   "id": "c57fa1b4-34e3-49f5-a6b6-73fe65345079",
   "metadata": {},
   "outputs": [
    {
     "name": "stdout",
     "output_type": "stream",
     "text": [
      "0.043449386652165925\n"
     ]
    }
   ],
   "source": [
    "mlp_fewer.eval()\n",
    "dm.setup(\"test\")\n",
    "\n",
    "with torch.no_grad():\n",
    "    X_true = dm.X_teste\n",
    "\n",
    "    y_true = dm.y_teste\n",
    "    y_true = dm.y_scaler.inverse_transform(y_true)\n",
    "\n",
    "    y_pred = mlp_fewer(X_true)\n",
    "    y_pred = dm.y_scaler.inverse_transform(y_pred)\n",
    "    \n",
    "    RMSE = mean_squared_error(y_true, y_pred, squared = False)\n",
    "\n",
    "    print(RMSE)"
   ]
  },
  {
   "cell_type": "code",
   "execution_count": 11,
   "id": "5e1c75c4-e1b8-42cf-b773-1db859078df9",
   "metadata": {},
   "outputs": [
    {
     "data": {
      "image/png": "[encoded data removed]",
      "text/plain": [
       "<Figure size 640x480 with 1 Axes>"
      ]
     },
     "metadata": {},
     "output_type": "display_data"
    }
   ],
   "source": [
    "figura, eixo = plt.subplots()\n",
    "\n",
    "ca_treino = mlp_fewer.curva_aprendizado_treino\n",
    "ca_val = mlp_fewer.curva_aprendizado_val\n",
    "\n",
    "eixo.plot(ca_treino, label=\"Treino\")\n",
    "eixo.plot(ca_val, label=\"Validação\")\n",
    "\n",
    "eixo.legend()\n",
    "\n",
    "eixo.set_xlim(left=0)\n",
    "\n",
    "eixo.set_title(\"Curva de aprendizado\")\n",
    "eixo.set_xlabel(\"Época\")\n",
    "eixo.set_ylabel(\"Loss\");"
   ]
  },
  {
   "cell_type": "code",
   "execution_count": 15,
   "id": "bb651e72-8d87-4f39-80e5-09a2a62fca29",
   "metadata": {},
   "outputs": [
    {
     "data": {
      "text/html": [
       "<div>\n",
       "<style scoped>\n",
       "    .dataframe tbody tr th:only-of-type {\n",
       "        vertical-align: middle;\n",
       "    }\n",
       "\n",
       "    .dataframe tbody tr th {\n",
       "        vertical-align: top;\n",
       "    }\n",
       "\n",
       "    .dataframe thead th {\n",
       "        text-align: right;\n",
       "    }\n",
       "</style>\n",
       "<table border=\"1\" class=\"dataframe\">\n",
       "  <thead>\n",
       "    <tr style=\"text-align: right;\">\n",
       "      <th></th>\n",
       "      <th>Real</th>\n",
       "      <th>Previsto</th>\n",
       "    </tr>\n",
       "  </thead>\n",
       "  <tbody>\n",
       "    <tr>\n",
       "      <th>0</th>\n",
       "      <td>[0.563]</td>\n",
       "      <td>[0.58123236]</td>\n",
       "    </tr>\n",
       "    <tr>\n",
       "      <th>1</th>\n",
       "      <td>[0.60899998]</td>\n",
       "      <td>[0.59651592]</td>\n",
       "    </tr>\n",
       "    <tr>\n",
       "      <th>2</th>\n",
       "      <td>[0.60899998]</td>\n",
       "      <td>[0.58763391]</td>\n",
       "    </tr>\n",
       "    <tr>\n",
       "      <th>3</th>\n",
       "      <td>[0.56999998]</td>\n",
       "      <td>[0.55346146]</td>\n",
       "    </tr>\n",
       "    <tr>\n",
       "      <th>4</th>\n",
       "      <td>[0.606]</td>\n",
       "      <td>[0.57759827]</td>\n",
       "    </tr>\n",
       "    <tr>\n",
       "      <th>5</th>\n",
       "      <td>[0.50300001]</td>\n",
       "      <td>[0.55991932]</td>\n",
       "    </tr>\n",
       "    <tr>\n",
       "      <th>6</th>\n",
       "      <td>[0.53899999]</td>\n",
       "      <td>[0.58114079]</td>\n",
       "    </tr>\n",
       "    <tr>\n",
       "      <th>7</th>\n",
       "      <td>[0.58500001]</td>\n",
       "      <td>[0.57967106]</td>\n",
       "    </tr>\n",
       "    <tr>\n",
       "      <th>8</th>\n",
       "      <td>[0.62699999]</td>\n",
       "      <td>[0.57867859]</td>\n",
       "    </tr>\n",
       "    <tr>\n",
       "      <th>9</th>\n",
       "      <td>[0.561]</td>\n",
       "      <td>[0.58462778]</td>\n",
       "    </tr>\n",
       "    <tr>\n",
       "      <th>10</th>\n",
       "      <td>[0.60699998]</td>\n",
       "      <td>[0.58638465]</td>\n",
       "    </tr>\n",
       "    <tr>\n",
       "      <th>11</th>\n",
       "      <td>[0.58500001]</td>\n",
       "      <td>[0.55186166]</td>\n",
       "    </tr>\n",
       "    <tr>\n",
       "      <th>12</th>\n",
       "      <td>[0.6]</td>\n",
       "      <td>[0.59038297]</td>\n",
       "    </tr>\n",
       "    <tr>\n",
       "      <th>13</th>\n",
       "      <td>[0.606]</td>\n",
       "      <td>[0.55413768]</td>\n",
       "    </tr>\n",
       "    <tr>\n",
       "      <th>14</th>\n",
       "      <td>[0.57700001]</td>\n",
       "      <td>[0.58178765]</td>\n",
       "    </tr>\n",
       "    <tr>\n",
       "      <th>15</th>\n",
       "      <td>[0.555]</td>\n",
       "      <td>[0.58447909]</td>\n",
       "    </tr>\n",
       "    <tr>\n",
       "      <th>16</th>\n",
       "      <td>[0.604]</td>\n",
       "      <td>[0.58263049]</td>\n",
       "    </tr>\n",
       "    <tr>\n",
       "      <th>17</th>\n",
       "      <td>[0.561]</td>\n",
       "      <td>[0.56949526]</td>\n",
       "    </tr>\n",
       "    <tr>\n",
       "      <th>18</th>\n",
       "      <td>[0.62099999]</td>\n",
       "      <td>[0.56768476]</td>\n",
       "    </tr>\n",
       "    <tr>\n",
       "      <th>19</th>\n",
       "      <td>[0.62600001]</td>\n",
       "      <td>[0.5608315]</td>\n",
       "    </tr>\n",
       "    <tr>\n",
       "      <th>20</th>\n",
       "      <td>[0.54600001]</td>\n",
       "      <td>[0.54921705]</td>\n",
       "    </tr>\n",
       "    <tr>\n",
       "      <th>21</th>\n",
       "      <td>[0.54699999]</td>\n",
       "      <td>[0.5529503]</td>\n",
       "    </tr>\n",
       "    <tr>\n",
       "      <th>22</th>\n",
       "      <td>[0.55400002]</td>\n",
       "      <td>[0.55313754]</td>\n",
       "    </tr>\n",
       "    <tr>\n",
       "      <th>23</th>\n",
       "      <td>[0.688]</td>\n",
       "      <td>[0.54814116]</td>\n",
       "    </tr>\n",
       "    <tr>\n",
       "      <th>24</th>\n",
       "      <td>[0.57399999]</td>\n",
       "      <td>[0.60354863]</td>\n",
       "    </tr>\n",
       "    <tr>\n",
       "      <th>25</th>\n",
       "      <td>[0.59900002]</td>\n",
       "      <td>[0.58741399]</td>\n",
       "    </tr>\n",
       "    <tr>\n",
       "      <th>26</th>\n",
       "      <td>[0.63200001]</td>\n",
       "      <td>[0.58067646]</td>\n",
       "    </tr>\n",
       "    <tr>\n",
       "      <th>27</th>\n",
       "      <td>[0.59900002]</td>\n",
       "      <td>[0.5838342]</td>\n",
       "    </tr>\n",
       "    <tr>\n",
       "      <th>28</th>\n",
       "      <td>[0.57199999]</td>\n",
       "      <td>[0.54976459]</td>\n",
       "    </tr>\n",
       "    <tr>\n",
       "      <th>29</th>\n",
       "      <td>[0.53400001]</td>\n",
       "      <td>[0.58670074]</td>\n",
       "    </tr>\n",
       "    <tr>\n",
       "      <th>30</th>\n",
       "      <td>[0.61899999]</td>\n",
       "      <td>[0.58161825]</td>\n",
       "    </tr>\n",
       "    <tr>\n",
       "      <th>31</th>\n",
       "      <td>[0.57199999]</td>\n",
       "      <td>[0.58425223]</td>\n",
       "    </tr>\n",
       "    <tr>\n",
       "      <th>32</th>\n",
       "      <td>[0.61699999]</td>\n",
       "      <td>[0.54909837]</td>\n",
       "    </tr>\n",
       "    <tr>\n",
       "      <th>33</th>\n",
       "      <td>[0.563]</td>\n",
       "      <td>[0.571742]</td>\n",
       "    </tr>\n",
       "    <tr>\n",
       "      <th>34</th>\n",
       "      <td>[0.61099998]</td>\n",
       "      <td>[0.5599951]</td>\n",
       "    </tr>\n",
       "    <tr>\n",
       "      <th>35</th>\n",
       "      <td>[0.62800001]</td>\n",
       "      <td>[0.59033048]</td>\n",
       "    </tr>\n",
       "    <tr>\n",
       "      <th>36</th>\n",
       "      <td>[0.59300002]</td>\n",
       "      <td>[0.54944223]</td>\n",
       "    </tr>\n",
       "    <tr>\n",
       "      <th>37</th>\n",
       "      <td>[0.57799999]</td>\n",
       "      <td>[0.57705566]</td>\n",
       "    </tr>\n",
       "    <tr>\n",
       "      <th>38</th>\n",
       "      <td>[0.62000001]</td>\n",
       "      <td>[0.58807098]</td>\n",
       "    </tr>\n",
       "    <tr>\n",
       "      <th>39</th>\n",
       "      <td>[0.6]</td>\n",
       "      <td>[0.58829464]</td>\n",
       "    </tr>\n",
       "    <tr>\n",
       "      <th>40</th>\n",
       "      <td>[0.61]</td>\n",
       "      <td>[0.58912468]</td>\n",
       "    </tr>\n",
       "    <tr>\n",
       "      <th>41</th>\n",
       "      <td>[0.596]</td>\n",
       "      <td>[0.57676237]</td>\n",
       "    </tr>\n",
       "    <tr>\n",
       "      <th>42</th>\n",
       "      <td>[0.51]</td>\n",
       "      <td>[0.55010635]</td>\n",
       "    </tr>\n",
       "    <tr>\n",
       "      <th>43</th>\n",
       "      <td>[0.61499999]</td>\n",
       "      <td>[0.57094928]</td>\n",
       "    </tr>\n",
       "    <tr>\n",
       "      <th>44</th>\n",
       "      <td>[0.61299998]</td>\n",
       "      <td>[0.58841167]</td>\n",
       "    </tr>\n",
       "    <tr>\n",
       "      <th>45</th>\n",
       "      <td>[0.38999998]</td>\n",
       "      <td>[0.54814116]</td>\n",
       "    </tr>\n",
       "    <tr>\n",
       "      <th>46</th>\n",
       "      <td>[0.57100001]</td>\n",
       "      <td>[0.54965178]</td>\n",
       "    </tr>\n",
       "    <tr>\n",
       "      <th>47</th>\n",
       "      <td>[0.553]</td>\n",
       "      <td>[0.55248818]</td>\n",
       "    </tr>\n",
       "    <tr>\n",
       "      <th>48</th>\n",
       "      <td>[0.57300001]</td>\n",
       "      <td>[0.5632504]</td>\n",
       "    </tr>\n",
       "    <tr>\n",
       "      <th>49</th>\n",
       "      <td>[0.62000001]</td>\n",
       "      <td>[0.56392276]</td>\n",
       "    </tr>\n",
       "    <tr>\n",
       "      <th>50</th>\n",
       "      <td>[0.62800001]</td>\n",
       "      <td>[0.57482179]</td>\n",
       "    </tr>\n",
       "    <tr>\n",
       "      <th>51</th>\n",
       "      <td>[0.58700001]</td>\n",
       "      <td>[0.58156727]</td>\n",
       "    </tr>\n",
       "    <tr>\n",
       "      <th>52</th>\n",
       "      <td>[0.55200002]</td>\n",
       "      <td>[0.55080992]</td>\n",
       "    </tr>\n",
       "    <tr>\n",
       "      <th>53</th>\n",
       "      <td>[0.506]</td>\n",
       "      <td>[0.5669111]</td>\n",
       "    </tr>\n",
       "    <tr>\n",
       "      <th>54</th>\n",
       "      <td>[0.65599998]</td>\n",
       "      <td>[0.58567771]</td>\n",
       "    </tr>\n",
       "    <tr>\n",
       "      <th>55</th>\n",
       "      <td>[0.58100001]</td>\n",
       "      <td>[0.54944169]</td>\n",
       "    </tr>\n",
       "    <tr>\n",
       "      <th>56</th>\n",
       "      <td>[0.59300002]</td>\n",
       "      <td>[0.55073045]</td>\n",
       "    </tr>\n",
       "    <tr>\n",
       "      <th>57</th>\n",
       "      <td>[0.57999999]</td>\n",
       "      <td>[0.58745569]</td>\n",
       "    </tr>\n",
       "    <tr>\n",
       "      <th>58</th>\n",
       "      <td>[0.604]</td>\n",
       "      <td>[0.58099763]</td>\n",
       "    </tr>\n",
       "  </tbody>\n",
       "</table>\n",
       "</div>"
      ],
      "text/plain": [
       "            Real      Previsto\n",
       "0        [0.563]  [0.58123236]\n",
       "1   [0.60899998]  [0.59651592]\n",
       "2   [0.60899998]  [0.58763391]\n",
       "3   [0.56999998]  [0.55346146]\n",
       "4        [0.606]  [0.57759827]\n",
       "5   [0.50300001]  [0.55991932]\n",
       "6   [0.53899999]  [0.58114079]\n",
       "7   [0.58500001]  [0.57967106]\n",
       "8   [0.62699999]  [0.57867859]\n",
       "9        [0.561]  [0.58462778]\n",
       "10  [0.60699998]  [0.58638465]\n",
       "11  [0.58500001]  [0.55186166]\n",
       "12         [0.6]  [0.59038297]\n",
       "13       [0.606]  [0.55413768]\n",
       "14  [0.57700001]  [0.58178765]\n",
       "15       [0.555]  [0.58447909]\n",
       "16       [0.604]  [0.58263049]\n",
       "17       [0.561]  [0.56949526]\n",
       "18  [0.62099999]  [0.56768476]\n",
       "19  [0.62600001]   [0.5608315]\n",
       "20  [0.54600001]  [0.54921705]\n",
       "21  [0.54699999]   [0.5529503]\n",
       "22  [0.55400002]  [0.55313754]\n",
       "23       [0.688]  [0.54814116]\n",
       "24  [0.57399999]  [0.60354863]\n",
       "25  [0.59900002]  [0.58741399]\n",
       "26  [0.63200001]  [0.58067646]\n",
       "27  [0.59900002]   [0.5838342]\n",
       "28  [0.57199999]  [0.54976459]\n",
       "29  [0.53400001]  [0.58670074]\n",
       "30  [0.61899999]  [0.58161825]\n",
       "31  [0.57199999]  [0.58425223]\n",
       "32  [0.61699999]  [0.54909837]\n",
       "33       [0.563]    [0.571742]\n",
       "34  [0.61099998]   [0.5599951]\n",
       "35  [0.62800001]  [0.59033048]\n",
       "36  [0.59300002]  [0.54944223]\n",
       "37  [0.57799999]  [0.57705566]\n",
       "38  [0.62000001]  [0.58807098]\n",
       "39         [0.6]  [0.58829464]\n",
       "40        [0.61]  [0.58912468]\n",
       "41       [0.596]  [0.57676237]\n",
       "42        [0.51]  [0.55010635]\n",
       "43  [0.61499999]  [0.57094928]\n",
       "44  [0.61299998]  [0.58841167]\n",
       "45  [0.38999998]  [0.54814116]\n",
       "46  [0.57100001]  [0.54965178]\n",
       "47       [0.553]  [0.55248818]\n",
       "48  [0.57300001]   [0.5632504]\n",
       "49  [0.62000001]  [0.56392276]\n",
       "50  [0.62800001]  [0.57482179]\n",
       "51  [0.58700001]  [0.58156727]\n",
       "52  [0.55200002]  [0.55080992]\n",
       "53       [0.506]   [0.5669111]\n",
       "54  [0.65599998]  [0.58567771]\n",
       "55  [0.58100001]  [0.54944169]\n",
       "56  [0.59300002]  [0.55073045]\n",
       "57  [0.57999999]  [0.58745569]\n",
       "58       [0.604]  [0.58099763]"
      ]
     },
     "execution_count": 15,
     "metadata": {},
     "output_type": "execute_result"
    }
   ],
   "source": [
    "import csv\n",
    "# Arrays de exemplo\n",
    "array1 = y_true\n",
    "array2 = y_pred\n",
    "\n",
    "# Nome do arquivo CSV\n",
    "filename = 'output.csv'\n",
    "\n",
    "# Criar e escrever no arquivo CSV\n",
    "with open(filename, mode='w', newline='') as file:\n",
    "    writer = csv.writer(file)\n",
    "    \n",
    "    # Escrever cabeçalhos (opcional)\n",
    "    writer.writerow(['Real', 'Previsto'])\n",
    "    \n",
    "    # Escrever os dados\n",
    "    for a1, a2 in zip(array1, array2):\n",
    "        writer.writerow([a1, a2])\n",
    "\n",
    "mostra = pd.read_csv('output.csv')\n",
    "mostra"
   ]
  }
 ],
 "metadata": {
  "kernelspec": {
   "display_name": "ilumpy",
   "language": "python",
   "name": "ilumpy"
  },
  "language_info": {
   "codemirror_mode": {
    "name": "ipython",
    "version": 3
   },
   "file_extension": ".py",
   "mimetype": "text/x-python",
   "name": "python",
   "nbconvert_exporter": "python",
   "pygments_lexer": "ipython3",
   "version": "3.10.8"
  }
 },
 "nbformat": 4,
 "nbformat_minor": 5
}
